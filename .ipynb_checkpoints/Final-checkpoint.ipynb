{
 "cells": [
  {
   "cell_type": "markdown",
   "id": "bb1d3409-0b2d-4bd9-a91e-6d8a73370fde",
   "metadata": {},
   "source": [
    "![Boshi](Boshi.png)"
   ]
  },
  {
   "cell_type": "markdown",
   "id": "6cca54c0-99ad-44b3-a7fc-abd5d93ffc3b",
   "metadata": {},
   "source": [
    "[One_Drive](https://universityofstandrews907-my.sharepoint.com/:f:/r/personal/ofh1_st-andrews_ac_uk/Documents/Finale?csf=1&web=1&e=UhPnhh)"
   ]
  },
  {
   "cell_type": "markdown",
   "id": "479c99b6-c81b-49ea-af36-65c167bca974",
   "metadata": {},
   "source": [
    "__Context and Literature__\n",
    "\n",
    "The Tube in serving as the zenith of British transit on account of its frequency, acceleration and sound punctuality has been a model for public transportation systems worldwide with the concept of the contemporary metro system drawing heavily from practices originating 18th Century practices initially conceptualised in London. The denizens of said city are blessed with an ease of transportation with extends beyond similarly sized conurbations much of the world over. The benefits of such a comprehensive system are immeasurable with the continued upkeep and prospective expansion of the network facilitating a range of both socio-economic and environmental benefits which enable London to sustain itself as among the most prosperous and liveable cities worldwide. Investment in network modernisation has improved accessibility and reliability such that, in tandem with adjacent investments in active transit and congestion charging schemes air pollution has fallen dramatically over the prior decade. Between 2016 and 2019 London saw a 94% decline in the number of people residing in areas with illegal air pollution with investments into Tube Modernisation and adjacent expansion of the Santander Cycle scheme into parts of East and South London facilitating an enhancement in those using public or active transit.\n",
    "\n",
    "Any analysis of the London Underground network reveals an interesting geographic oddity in that much of the system is spatially biased toward London’s Northwestern Axis leaving a city beleaguered by an explicit inequity in transport provision. This has long been the case in that when the tube was constructed, early Tunnel Boring Machines (TBM) fared considerably better under geological conditions present in the North with the ‘London Clay’ found in the area being favourable for construction. Additionally, the distribution of wealth in the city has always favoured a Western orientated axis with the City of Westminster being an uppermost plinth of capital concentration from where the aristocracy and middle classes stipulated urban policy and reaffirmed bourgeois interests. Residents leveraged their political and economic means such that the construction of Tramways and conventional railways in much of South and East London was halted in the affluent West End citing damage to existing properties and the unsightliness of infrastructure such as catenary poles. Instead, the political and economic means were held to undertake costly tunnelling exercises providing an efficient means of transportation while preserving the existing urban fabric. \n",
    "\n",
    "The post-war era saw the scrapping of London’s extensive Tram network which formed a vital means of transportation across much of the conurbations traditionally working-class areas. This gave way to buses as the principal transport method, with the extensive network of conventional railways being structured more so to the benefit of a newly established post-war suburbanite population as opposed to an increasingly isolated class of inner-city dweller. It holds true then, that any study of London’s public transport system must acknowledge the systematic socio-economic inequalities which influenced both the distribution and type of transit modes across the urban area. Acknowledgement of how transit availability was historically a direct consequence of the intersectionality between political power and economic means provides a fascinating contextual basis for my study. Principally I shall be looking to address a pair of research questions.    \n",
    "\n",
    "__In what fashion are historically embedded spatial inequalities in transport provision replicated across a contemporary 21st century London?__\n",
    "\n",
    "__Does adjacency to active and public transport links influence deprivation outcomes, and how do the implications differ with demographic factors__\n",
    "\n",
    "Such questions are important in that The Mayor and Greater London Authority have repeatedly identified London’s extensive transportation network as being pivotal toward meeting the cities aspirational sustainability targets with a key facet of London Plan 2021 being the instigation of a modal shift from cars to alternative means of transport such that by 2041 80% of trips are to be made by foot, cycle or Public Transport. However, if such a plan is to succeed it stands to reason that investment ought to be targeted in toward a position of equitability. Having explicitly identified the transition of London from a city of mixed mobility to one overwhelmingly orientated around public and active transport it is paramount that investment is aimed at toward ensuring all residents can take advantage of the opportunities a burgeoning green mobility network bring. \n",
    "\n",
    "In understanding and identifying how historical transit innovations like The London Underground were optimised toward the retention of the political and economic means of the middle-classes identification of persistent trends in both the distribution and quality of transport links is key toward alleviating the harsh socio-economic divides present across Greater London. Indeed, London holds the highest GDP per head among UK regions yet has observed an unemployment rate below the national average for over three decades. In his ‘Skills for Londoners’ document London mayor Sadiq Khan underlines his commitment toward ensuring all young Londoners can fulfil their potential irrespective of socio-economic background with the 2016 ‘city for all Londoners’ manifesto outlining just how critical a stellar transport strategy is toward the sculpting of a city which ceases to discriminate on the basis of socio-economic standing. Khan describes how transport will be used as a ‘leveller’ toward enhancing the prospects of vulnerable young people. Noted is the role enhanced connectivity could have on eroding the prominence of youth gang violence which blight many disconnected, peripheral inner London neighbourhoods particularly in areas where transport investment has historically been poor.\n",
    "\n",
    "In this sense once can see an intersectionality between the accessibility of transport links and deprivation a scenario which has been largely embedded in London socio-spatial patchwork. In addressing my two research questions I seek to provide clarity on the relationship between a series of demographic variables and transit accessibility. This should further understand of the nuanced dynamics present across a range of highly varied neighbourhoods within Inner London such that policymakers and adjacent stakeholders are best informed toward how best to incorporate future active travel solutions. \n"
   ]
  },
  {
   "cell_type": "markdown",
   "id": "3cca4d6a-d7da-4b38-8440-c0b880bb59f0",
   "metadata": {},
   "source": [
    "![bike](bike.png)"
   ]
  },
  {
   "cell_type": "markdown",
   "id": "fb86057a-a9cf-4975-8a5b-370f15240f3b",
   "metadata": {},
   "source": [
    "__Methods__\n",
    "\n",
    "The initial component of my methods constituted obtaining data from the ‘Transport for London’ (TFL) combined API. I fetched data providing the coordinate data for the location of both Santander Cycle Hire Station, and Cycle Parking facilities across London before extracting only the specific data I needed. Additionally, I sourced a shapefile providing the coordinate location of all transit stop locations in the United Kingdom. This data would then by aggregated by Lower Super Output Area (LSOA) and added to various census data metrics to analysis using a Geodemographic model. This is as to produce a cluster output which categorises neighbourhoods in the study area, in accordance with a set a common characteristics.\n"
   ]
  },
  {
   "cell_type": "code",
   "execution_count": null,
   "id": "45f1e6d9-b097-4c7d-b21d-7da687d53e4a",
   "metadata": {},
   "outputs": [],
   "source": [
    "import requests\n",
    "import pandas as pd\n",
    "import geopandas as gpd"
   ]
  },
  {
   "cell_type": "markdown",
   "id": "b69a222d-c11a-41dc-b967-1b92268780ab",
   "metadata": {},
   "source": [
    "The code above is responsible for importing the requests, pandas and geopandas libraries"
   ]
  },
  {
   "cell_type": "code",
   "execution_count": null,
   "id": "d3fb0bf2-04e4-4db6-8429-04e6c3c8b7a8",
   "metadata": {},
   "outputs": [],
   "source": [
    "url_bikepoint = \"https://api.tfl.gov.uk/BikePoint/\"\n",
    "response = requests.get(url_bikepoint)\n",
    "response"
   ]
  },
  {
   "cell_type": "markdown",
   "id": "c23b616a-9451-467f-b151-610c473b2723",
   "metadata": {},
   "source": [
    "Here I am making an API fetch request for the location of Santander Cycle Hire stations in London. The Response [200] indicates that it has worked"
   ]
  },
  {
   "cell_type": "code",
   "execution_count": null,
   "id": "8f0f10f4-be25-4678-b435-5ff2bfe0eebf",
   "metadata": {
    "scrolled": true
   },
   "outputs": [],
   "source": [
    "data = response.json()\n",
    "data"
   ]
  },
  {
   "cell_type": "markdown",
   "id": "7f7a1a9a-17b9-46d0-acf5-2d9cbaa2c95c",
   "metadata": {},
   "source": [
    "observing the data"
   ]
  },
  {
   "cell_type": "code",
   "execution_count": null,
   "id": "68b06001-c49d-43da-9328-e1231bd7e26a",
   "metadata": {},
   "outputs": [],
   "source": [
    "rental = pd.DataFrame(data)"
   ]
  },
  {
   "cell_type": "markdown",
   "id": "2e7fb9e2-3308-49ac-aa6d-c1db0ff45784",
   "metadata": {},
   "source": [
    "Here I am designated the value rental for a pandas dataframe containing the data from the API request"
   ]
  },
  {
   "cell_type": "code",
   "execution_count": null,
   "id": "9cd4681a-4ac2-4618-8fe3-5aab0d4f3de7",
   "metadata": {},
   "outputs": [],
   "source": [
    "rental"
   ]
  },
  {
   "cell_type": "code",
   "execution_count": null,
   "id": "a707ecf1-caa4-497e-9e83-41a616ccb18d",
   "metadata": {},
   "outputs": [],
   "source": [
    "rental.dtypes"
   ]
  },
  {
   "cell_type": "markdown",
   "id": "ed5508f6-3cd4-4cbd-95a5-5d8ea5778325",
   "metadata": {},
   "source": [
    "checking the data types"
   ]
  },
  {
   "cell_type": "code",
   "execution_count": null,
   "id": "3f0aa127-3cab-4c2c-ac68-d41d02c59183",
   "metadata": {},
   "outputs": [],
   "source": [
    "keep_cols = [\n",
    "    \"id\",\n",
    "    \"commonName\",\n",
    "    \"lat\",\n",
    "    \"lon\",]"
   ]
  },
  {
   "cell_type": "markdown",
   "id": "c0992de7-4044-43a5-8b79-971365fa0490",
   "metadata": {},
   "source": [
    "subsetting the relevant columns"
   ]
  },
  {
   "cell_type": "code",
   "execution_count": null,
   "id": "cfa26366-ae6b-476e-833e-c3f9d88220cb",
   "metadata": {},
   "outputs": [],
   "source": [
    "rental = rental[keep_cols]"
   ]
  },
  {
   "cell_type": "markdown",
   "id": "3e7677ba-1e2f-4531-a5af-879d4b0ba51b",
   "metadata": {},
   "source": [
    "rental now only includes these subsetted columns"
   ]
  },
  {
   "cell_type": "code",
   "execution_count": null,
   "id": "57ab963e-2ddb-4b73-8f22-b8155ad76379",
   "metadata": {},
   "outputs": [],
   "source": [
    "rentaloc = gpd.GeoDataFrame(rental, geometry=gpd.points_from_xy(rental['lon'], rental['lat']))"
   ]
  },
  {
   "cell_type": "markdown",
   "id": "a4978041-a0ce-497d-8a2e-f571b9a2a206",
   "metadata": {},
   "source": [
    "I am making a geopandas dataframe called rentaloc using the points specified in 'rentals' lon and lat columns"
   ]
  },
  {
   "cell_type": "code",
   "execution_count": null,
   "id": "fed2464e-61ce-4e7b-91a6-290efd56f5d5",
   "metadata": {},
   "outputs": [],
   "source": [
    "rentaloc = rentaloc.set_crs(\"EPSG:4326\")"
   ]
  },
  {
   "cell_type": "markdown",
   "id": "262b3236-0a2e-4ea0-8a51-b4d49de16103",
   "metadata": {},
   "source": [
    "The Coordinate Reference system shall be set to EPSG:4326"
   ]
  },
  {
   "cell_type": "code",
   "execution_count": null,
   "id": "0fc24f56-e6da-47ae-8c9f-2638796e61af",
   "metadata": {},
   "outputs": [],
   "source": [
    "rentaloc.crs"
   ]
  },
  {
   "cell_type": "code",
   "execution_count": null,
   "id": "c1a7d234-bc39-4065-80fe-9d83db004bbf",
   "metadata": {},
   "outputs": [],
   "source": [
    "rentaloc.head()"
   ]
  },
  {
   "cell_type": "code",
   "execution_count": null,
   "id": "f9f33046-2c6c-47ea-ac6e-f58e8ac86bdd",
   "metadata": {},
   "outputs": [],
   "source": [
    "rentaloc = rentaloc.to_crs('EPSG:3857')"
   ]
  },
  {
   "cell_type": "markdown",
   "id": "23675907-8e3d-47be-af79-446fad9cfebf",
   "metadata": {},
   "source": [
    "I am setting the rentaloc crs that uses metres"
   ]
  },
  {
   "cell_type": "code",
   "execution_count": null,
   "id": "b4d1c958-dd1c-442f-9537-686016eb2e13",
   "metadata": {},
   "outputs": [],
   "source": [
    "rentalwalk = rentaloc.buffer(400)"
   ]
  },
  {
   "cell_type": "markdown",
   "id": "6bd9e9e7-32c8-4493-bfcb-606fee5dec28",
   "metadata": {},
   "source": [
    "I have created rentalwalk which measures a distance 400 from the point geometry of rentaloc"
   ]
  },
  {
   "cell_type": "code",
   "execution_count": null,
   "id": "d22ac519-854b-40bc-910e-4d42423a41ab",
   "metadata": {},
   "outputs": [],
   "source": [
    "rentalwalk.tail"
   ]
  },
  {
   "cell_type": "code",
   "execution_count": null,
   "id": "9fa38bab-e1e4-4baf-ab55-d1a8c8415fbd",
   "metadata": {},
   "outputs": [],
   "source": [
    "rentalarea = gpd.GeoDataFrame(geometry=rentalwalk, crs=\"EPSG:3857\")\n",
    "rentalarea['buffer_id'] = range(len(rentalarea))"
   ]
  },
  {
   "cell_type": "markdown",
   "id": "0352e401-f5f8-44c2-b8bc-19a2a7097d83",
   "metadata": {},
   "source": [
    "I am creating a new geopandas dataframe using the rentalwalk geometry, creating and assigning a new variable called buffer_id"
   ]
  },
  {
   "cell_type": "code",
   "execution_count": null,
   "id": "dd7619bd-c6ef-4612-8b02-edaa91dce5c8",
   "metadata": {},
   "outputs": [],
   "source": [
    "rentalarea.head()"
   ]
  },
  {
   "cell_type": "code",
   "execution_count": null,
   "id": "7ed7fd11-8905-4f63-a48e-6d425f14999f",
   "metadata": {},
   "outputs": [],
   "source": [
    "rentalarea = rentalarea.to_crs(crs=\"EPSG:4326\")"
   ]
  },
  {
   "cell_type": "markdown",
   "id": "7853179f-079b-4f89-8b74-4133d735e1b7",
   "metadata": {},
   "source": [
    "Conversion back to the original CRS"
   ]
  },
  {
   "cell_type": "code",
   "execution_count": null,
   "id": "9e7c6d0f-76bd-4b09-8951-9044d6c27a67",
   "metadata": {},
   "outputs": [],
   "source": [
    "rentalarea.crs"
   ]
  },
  {
   "cell_type": "code",
   "execution_count": null,
   "id": "06fee486-6f7f-4fdf-8d99-d3f8d1bae2c9",
   "metadata": {},
   "outputs": [],
   "source": [
    "rentalarea.tail()"
   ]
  },
  {
   "cell_type": "code",
   "execution_count": null,
   "id": "b93d04e6-b5a1-46d4-8347-1ea19ac2398f",
   "metadata": {},
   "outputs": [],
   "source": [
    "rentalarea.explore()"
   ]
  },
  {
   "cell_type": "markdown",
   "id": "e3a6af3e-75f1-43d5-9ef6-b0ec65198743",
   "metadata": {},
   "source": [
    "![annie](annie.png)"
   ]
  },
  {
   "cell_type": "markdown",
   "id": "e41ec494-b21f-4e1d-974b-3019d87ad3cc",
   "metadata": {},
   "source": [
    "checking out what I just made"
   ]
  },
  {
   "cell_type": "markdown",
   "id": "c19df182-d9d9-49fc-8ee4-9675b9544981",
   "metadata": {},
   "source": [
    "Critical to the analysis was the creation of a specific shape file ‘InnerLondonLSOA’ which contains the LSOA boundaries for a specified area of London most suited to my research questions. The shapefile contains the LSOA boundaries for an area including the twelve Inner London Boroughs under the ‘London Government Act 1963’ statutory definition, ‘The City of London’ and ‘The London Borough of Newham’. The area was chosen on account of it representing an area roughly correlating with The County of London, the administrative body established in 1889 as a forebearer to the current Greater London Authority. The peripheral areas of Greater London are predominantly Suburban, and in places Rural in nature. They demonstrate socio-economic and physical characteristics quite distinct from the Inner London Boroughs with much of the built-up area being low-density, originating during the inter-war period as residents moved outward attributed to railway expansion. These areas were shaped by spatial processes quite distinct from those which were responsible for the more entrenched distribution of the population within London’s traditional core.\n",
    "\n",
    "Additionally, the distribution of active and public transport infrastructure is far sparser in these areas, with the Santander Cycle scheme being effectively non-existent. Suburban Southeast London completely lacks any Underground connections such that any attempt to include data from the Boroughs in this area would distort any data outcomes. Newham was added to the Shapefile as under various statistical definitions it forms part of Inner London instead of Greenwich. This makes sense as from a demographic and population density standpoint Newham holds characteristics equivalent to the Inner London Boroughs.\n"
   ]
  },
  {
   "cell_type": "code",
   "execution_count": null,
   "id": "ea02722c-92f8-46a2-b7ce-470da2603581",
   "metadata": {},
   "outputs": [],
   "source": [
    "shapefile_path = \"InnerLondon/InnerLondonMSOA.shp\"\n",
    "bounds = gpd.read_file(shapefile_path)"
   ]
  },
  {
   "cell_type": "markdown",
   "id": "922d2406-bd37-4825-a16d-8684102e92ec",
   "metadata": {},
   "source": [
    "Loading in the shapefile which contains the bounds for my study area"
   ]
  },
  {
   "cell_type": "code",
   "execution_count": null,
   "id": "5f6e2d11-9d66-4287-b1f6-db4516448eba",
   "metadata": {},
   "outputs": [],
   "source": [
    "boundconv = bounds.to_crs(\"EPSG:4326\")\n",
    "boundconv.explore()"
   ]
  },
  {
   "cell_type": "markdown",
   "id": "42d2c493-d7be-4222-b967-58348be2c446",
   "metadata": {},
   "source": [
    "![a1](a1.png)"
   ]
  },
  {
   "cell_type": "markdown",
   "id": "4b237834-9290-4f89-9a69-9bd33eb4e570",
   "metadata": {},
   "source": [
    "Assigning the correct CRS and checking it out!"
   ]
  },
  {
   "cell_type": "code",
   "execution_count": null,
   "id": "a828b5e7-6356-4ada-9603-57b7ba4f55b6",
   "metadata": {
    "scrolled": true
   },
   "outputs": [],
   "source": [
    "bikebounds = rentalarea.sjoin(boundconv,how=\"right\", op='intersects')\n",
    "bikebounds.tail()"
   ]
  },
  {
   "cell_type": "markdown",
   "id": "e09055d5-5c02-4389-9c35-4995dd72ded9",
   "metadata": {},
   "source": [
    "Here I am creating a new geodata frame by completing a spatial join between my rental area buffer geodataframe and the newly loaded in bikebounds geodataframe. "
   ]
  },
  {
   "cell_type": "code",
   "execution_count": null,
   "id": "7509fdb1-ad75-47a8-b014-faafb7c6065b",
   "metadata": {},
   "outputs": [],
   "source": [
    "BikenearOA = bikebounds.groupby('LSOA21CD')['buffer_id'].nunique().reset_index(name='BikenearOA')\n",
    "\n",
    "BikenearOA.tail()"
   ]
  },
  {
   "cell_type": "markdown",
   "id": "13dd8e5a-ba78-4f28-9df3-739c09824b9a",
   "metadata": {},
   "source": [
    "Above I am aggregating the number of clusters overlapping with each LSOA such that a numerical value based on how many there are, is assigned to each LSOA."
   ]
  },
  {
   "cell_type": "code",
   "execution_count": null,
   "id": "9d1886e4-7c0f-4fb7-be35-b1d75a7355d7",
   "metadata": {},
   "outputs": [],
   "source": [
    "geom = boundconv\n",
    "count = BikenearOA\n",
    "\n",
    "Dataframe = pd.merge(geom, count, right_on=\"LSOA21CD\", left_on=\"LSOA21CD\")"
   ]
  },
  {
   "cell_type": "markdown",
   "id": "217d3a30-2dcc-47b4-8203-ca4604dc0cce",
   "metadata": {},
   "source": [
    "now I am to merge this wirh my existing boundconv dataframe"
   ]
  },
  {
   "cell_type": "code",
   "execution_count": null,
   "id": "7d969d1d-63e7-467d-af36-f4b218810e4d",
   "metadata": {},
   "outputs": [],
   "source": [
    "Dataframe.explore(\"BikenearOA\", cmap = \"YlGnBu\")"
   ]
  },
  {
   "cell_type": "markdown",
   "id": "3b013d64-9462-4809-8e7b-f89dfaf19a2a",
   "metadata": {},
   "source": [
    "![a2](a2.png)"
   ]
  },
  {
   "cell_type": "markdown",
   "id": "8d4fb86d-a733-4fe9-9ab5-a819bb261798",
   "metadata": {},
   "source": [
    "Above is an interactive visualisation of the number of Santander Bike stations are adjacent or within each of the LSOA areas."
   ]
  },
  {
   "cell_type": "code",
   "execution_count": null,
   "id": "e6c8a123-fe80-468b-899d-1c9a9c6073d8",
   "metadata": {},
   "outputs": [],
   "source": [
    "Dataframe.head()"
   ]
  },
  {
   "cell_type": "code",
   "execution_count": null,
   "id": "190dea60-518a-4296-981e-e031c4b3861c",
   "metadata": {},
   "outputs": [],
   "source": [
    "url_bikepark = \"https://api.tfl.gov.uk/Place/Type/CyclePark\"\n",
    "response = requests.get(url_bikepark)\n",
    "response"
   ]
  },
  {
   "cell_type": "markdown",
   "id": "486b910f-3485-485b-8f93-96d1c1e07e50",
   "metadata": {},
   "source": [
    "Here I am completeing a second API request this time fetching the location of all Cycle storage facilities across Greater London"
   ]
  },
  {
   "cell_type": "code",
   "execution_count": null,
   "id": "1e638852-b1eb-4e9f-9af4-43ec97363567",
   "metadata": {
    "scrolled": true
   },
   "outputs": [],
   "source": [
    "data = response.json()\n",
    "data"
   ]
  },
  {
   "cell_type": "code",
   "execution_count": null,
   "id": "f0e922d4-a632-4803-8490-1f05de4b0f0c",
   "metadata": {},
   "outputs": [],
   "source": [
    "park = pd.DataFrame(data)"
   ]
  },
  {
   "cell_type": "code",
   "execution_count": null,
   "id": "3786049d-00f7-4e0e-8bfc-dced4fefd1df",
   "metadata": {},
   "outputs": [],
   "source": [
    "park.head()"
   ]
  },
  {
   "cell_type": "code",
   "execution_count": null,
   "id": "04109fb9-ac57-4a87-829c-6191683f9d2a",
   "metadata": {},
   "outputs": [],
   "source": [
    "keep_cols = [\n",
    "    \"id\",\n",
    "    \"lat\",\n",
    "    \"lon\",]"
   ]
  },
  {
   "cell_type": "markdown",
   "id": "fcdaefea-ea76-48d7-8020-660eebd9a869",
   "metadata": {},
   "source": [
    "subsetting for these columns specifically"
   ]
  },
  {
   "cell_type": "code",
   "execution_count": null,
   "id": "f446e750-63a8-4012-92db-57d2e3d2f8b8",
   "metadata": {},
   "outputs": [],
   "source": [
    "park = park[keep_cols]"
   ]
  },
  {
   "cell_type": "markdown",
   "id": "e2615146-22d9-44b6-a3b1-11654b85e3c1",
   "metadata": {},
   "source": [
    "keeping only these columns under the new park dataframe"
   ]
  },
  {
   "cell_type": "code",
   "execution_count": null,
   "id": "0e647540-00cf-4483-9bb4-1d895b08e214",
   "metadata": {},
   "outputs": [],
   "source": [
    "park = gpd.GeoDataFrame(park, geometry=gpd.points_from_xy(park['lon'], park['lat']))"
   ]
  },
  {
   "cell_type": "markdown",
   "id": "c8a17f22-99fd-4959-98ed-ff7e49a67a1e",
   "metadata": {},
   "source": [
    "I am making a new geodataframe using the lon and lat columns as geometry"
   ]
  },
  {
   "cell_type": "code",
   "execution_count": null,
   "id": "19ce147e-2bf2-44b1-86f7-1eef29e273cd",
   "metadata": {},
   "outputs": [],
   "source": [
    "park = park.set_crs(\"EPSG:4326\")"
   ]
  },
  {
   "cell_type": "markdown",
   "id": "3884c070-c130-4883-ac8f-1b5c7c0174e2",
   "metadata": {},
   "source": [
    "setting the crs and then exploring"
   ]
  },
  {
   "cell_type": "code",
   "execution_count": null,
   "id": "4e3dbc6b-b0ec-44a7-8ae6-0ba7530d311f",
   "metadata": {},
   "outputs": [],
   "source": [
    "park.explore()"
   ]
  },
  {
   "cell_type": "markdown",
   "id": "9d45f504-a1dc-4e59-82f2-933c423fcf96",
   "metadata": {},
   "source": [
    "![b](b.png)"
   ]
  },
  {
   "cell_type": "code",
   "execution_count": null,
   "id": "fca87d5e-1349-4271-b0a8-786b30b32ee8",
   "metadata": {},
   "outputs": [],
   "source": [
    "parkbounds = boundconv.sjoin(park, how=\"left\", op='intersects')"
   ]
  },
  {
   "cell_type": "markdown",
   "id": "6a5e1a96-38d7-4839-b6b6-ffc711e4bfc8",
   "metadata": {},
   "source": [
    "As previously, conducting a spatial join on the left side, intersecting. The intention is such that my inner London area will be shown in the same dataframe with the bike parking locations"
   ]
  },
  {
   "cell_type": "code",
   "execution_count": null,
   "id": "acd2da90-2987-4777-b24e-1078db596734",
   "metadata": {},
   "outputs": [],
   "source": [
    "parkbounds.explore()"
   ]
  },
  {
   "cell_type": "markdown",
   "id": "b51c74e6-286e-4349-8b1e-55c5ecba8549",
   "metadata": {},
   "source": [
    "![b1](b1.png)"
   ]
  },
  {
   "cell_type": "code",
   "execution_count": null,
   "id": "64a41eb7-d94c-427a-bcca-3377347aa34a",
   "metadata": {},
   "outputs": [],
   "source": [
    "ParkperOA = parkbounds.groupby('LSOA21CD')['id'].nunique().reset_index(name='ParkperOA')\n",
    "\n",
    "ParkperOA.info()"
   ]
  },
  {
   "cell_type": "markdown",
   "id": "2a8f3120-61fd-4c5d-951a-3c8fa5b270d2",
   "metadata": {},
   "source": [
    "I am now undergoing an aggregation operation such that the number of cycle parking facilities per indvidual LSOA is counted"
   ]
  },
  {
   "cell_type": "code",
   "execution_count": null,
   "id": "4d76a027-03c3-4a16-9522-23dad5c659ce",
   "metadata": {},
   "outputs": [],
   "source": [
    "ParkperOA.tail()"
   ]
  },
  {
   "cell_type": "code",
   "execution_count": null,
   "id": "b9826368-9051-40ee-a43b-13feea2ea1ff",
   "metadata": {},
   "outputs": [],
   "source": [
    "geom = Dataframe \n",
    "count = ParkperOA\n",
    "\n",
    "Dataframe = pd.merge(geom, count, left_on=\"LSOA21CD\", right_on=\"LSOA21CD\")\n",
    "\n",
    "Dataframe.tail()"
   ]
  },
  {
   "cell_type": "markdown",
   "id": "0c7bfc21-3f32-41f5-9c56-8f4cdaeab7e1",
   "metadata": {},
   "source": [
    "Now, to merge the two dataframes into the one outcome!"
   ]
  },
  {
   "cell_type": "code",
   "execution_count": null,
   "id": "a9eeb2ba-ab70-424f-90be-d03fe0f7709f",
   "metadata": {},
   "outputs": [],
   "source": [
    "Dataframe.explore(\"ParkperOA\", cmap = \"YlGnBu\")"
   ]
  },
  {
   "cell_type": "markdown",
   "id": "28f0e549-4711-4527-b921-6141b178efab",
   "metadata": {},
   "source": [
    "![b2](b2.png)"
   ]
  },
  {
   "cell_type": "markdown",
   "id": "9aa3a042-e3eb-453d-acf1-c0d0636349b2",
   "metadata": {},
   "source": [
    "As before we can visualise the relationship between cycle hire stations and LSOAs"
   ]
  },
  {
   "cell_type": "code",
   "execution_count": null,
   "id": "3137fd58-6681-4f91-9c13-d9bef71ba53b",
   "metadata": {},
   "outputs": [],
   "source": [
    "Dataframe.head()"
   ]
  },
  {
   "cell_type": "code",
   "execution_count": null,
   "id": "2e3e2e8b-a7cb-480c-88a0-d3749d586478",
   "metadata": {},
   "outputs": [],
   "source": [
    "Dataframe[\"Parkrate\"] = Dataframe[\"ParkperOA\"]/Dataframe[\"Shape__Are\"]"
   ]
  },
  {
   "cell_type": "code",
   "execution_count": null,
   "id": "69219eb3-080f-4e69-8f4e-7f92b657572e",
   "metadata": {},
   "outputs": [],
   "source": [
    "Dataframe[\"Bikerate\"] = Dataframe[\"BikenearOA\"]/Dataframe[\"Shape__Are\"]"
   ]
  },
  {
   "cell_type": "markdown",
   "id": "9353d3ea-262b-42b2-b23e-b107d704030f",
   "metadata": {},
   "source": [
    "Im interested to see the density of both cycle hire stations and parking lots. Thus I am creating two new columns dividing by the area of each LSOA"
   ]
  },
  {
   "cell_type": "code",
   "execution_count": null,
   "id": "2c77b6d1-013f-4a0b-a38c-f3d3b70318b7",
   "metadata": {},
   "outputs": [],
   "source": [
    "Dataframe.explore(\"Parkrate\", cmap = 'Greens')"
   ]
  },
  {
   "cell_type": "markdown",
   "id": "2bd094f3-0b1e-414d-bbb0-06b2fb7331f9",
   "metadata": {},
   "source": [
    "![b3](b3.png)"
   ]
  },
  {
   "cell_type": "code",
   "execution_count": null,
   "id": "c6579257-b1d1-4291-969b-4f5f6dfb1bf2",
   "metadata": {},
   "outputs": [],
   "source": [
    "import mapclassify as mc\n",
    "import matplotlib.pyplot as plt\n",
    "import folium\n",
    "import seaborn as sns\n",
    "\n",
    "import geopandas as gpd"
   ]
  },
  {
   "cell_type": "markdown",
   "id": "a70b775b-38b8-4a74-8578-3e6f4729b5c6",
   "metadata": {},
   "source": [
    "Here I am installing several packages for enhanced data visualisation"
   ]
  },
  {
   "cell_type": "code",
   "execution_count": null,
   "id": "80fab163-c777-4790-8085-169cb28e921f",
   "metadata": {},
   "outputs": [],
   "source": [
    "shapefile_path = \"station/Tube2.shp\"\n",
    "tube = gpd.read_file(shapefile_path)"
   ]
  },
  {
   "cell_type": "markdown",
   "id": "9306ed9e-8ea7-42d6-823e-8f5b7d65532c",
   "metadata": {
    "collapsed": true,
    "jupyter": {
     "outputs_hidden": true
    }
   },
   "source": [
    "In the above code I am importing a shape file containing all the London Underground Stations in London"
   ]
  },
  {
   "cell_type": "code",
   "execution_count": null,
   "id": "ed56a5c5-cc1d-4f9f-8d2e-d9c02ac68078",
   "metadata": {},
   "outputs": [],
   "source": [
    "tube.head()"
   ]
  },
  {
   "cell_type": "code",
   "execution_count": null,
   "id": "ba77d5f5-3d8c-4b1a-a14f-7f96b599893a",
   "metadata": {},
   "outputs": [],
   "source": [
    "tube.crs"
   ]
  },
  {
   "cell_type": "markdown",
   "id": "a325f6c5-d3bb-4275-99d0-1bde29f9884c",
   "metadata": {},
   "source": [
    "Here I am creating a buffer object around each tube station of 400 metres"
   ]
  },
  {
   "cell_type": "code",
   "execution_count": null,
   "id": "b612b7b4-4a17-4d30-9248-bdb7b91dacce",
   "metadata": {},
   "outputs": [],
   "source": [
    "tubewalk = tube.buffer(400)\n"
   ]
  },
  {
   "cell_type": "code",
   "execution_count": null,
   "id": "438073c6-98ed-40b0-ba50-68a576713402",
   "metadata": {},
   "outputs": [],
   "source": [
    "tubearea = gpd.GeoDataFrame(geometry=tubewalk, crs=\"EPSG:27700\")\n",
    "tubearea['buffer_id'] = range(len(tubearea))"
   ]
  },
  {
   "cell_type": "markdown",
   "id": "7da8b02a-7505-442a-a725-1a80a6f0ff65",
   "metadata": {},
   "source": [
    "creating a new dataframe consituting the buffers and a new variable giving each a unique ID"
   ]
  },
  {
   "cell_type": "code",
   "execution_count": null,
   "id": "31a23c96-5ae1-43f4-9c2a-c5fe3696dd10",
   "metadata": {},
   "outputs": [],
   "source": [
    "tubearea.explore()"
   ]
  },
  {
   "cell_type": "markdown",
   "id": "61bcb35d-cdaa-4a1a-8082-dc0247afca63",
   "metadata": {},
   "source": [
    "![c](c.png)"
   ]
  },
  {
   "cell_type": "code",
   "execution_count": null,
   "id": "ca3c6bd1-f677-4383-80b8-25b4eb4d4174",
   "metadata": {},
   "outputs": [],
   "source": [
    "tubearea = tubearea.to_crs(\"EPSG:4326\")"
   ]
  },
  {
   "cell_type": "markdown",
   "id": "14f7687e-99e7-4673-b0cf-77d06a3f8fad",
   "metadata": {},
   "source": [
    "converting into the same CRS as the rest of my project so some analysis can occur "
   ]
  },
  {
   "cell_type": "code",
   "execution_count": null,
   "id": "8f11c46b-3b75-46af-b22a-d6c7b930a4be",
   "metadata": {},
   "outputs": [],
   "source": [
    "tubearea.head()"
   ]
  },
  {
   "cell_type": "code",
   "execution_count": null,
   "id": "6cae91c5-c48e-47df-ab4a-ab04dee01c27",
   "metadata": {},
   "outputs": [],
   "source": [
    "tubebounds = tubearea.sjoin(boundconv,how=\"right\", op='intersects')\n",
    "tubebounds.tail()"
   ]
  },
  {
   "cell_type": "markdown",
   "id": "98367928-976d-4866-a94e-eb39a6eaf470",
   "metadata": {},
   "source": [
    "Undertaking a spatial join between the tube barrier geodataframe and my current main geodataframe"
   ]
  },
  {
   "cell_type": "code",
   "execution_count": null,
   "id": "a04b68e1-28b3-402e-90e0-2b2ba7fdae2c",
   "metadata": {},
   "outputs": [],
   "source": [
    "TubenearOA = tubebounds.groupby('LSOA21CD')['buffer_id'].nunique().reset_index(name='TubenearOA')\n",
    "\n",
    "TubenearOA.tail()"
   ]
  },
  {
   "cell_type": "markdown",
   "id": "26337efc-7512-4247-9315-9861072cf293",
   "metadata": {},
   "source": [
    "Aggregating by the number of buffers which intersect with each LSOA21CD to produce a new variable TubenearOA"
   ]
  },
  {
   "cell_type": "code",
   "execution_count": null,
   "id": "da4a846d-b309-4afc-820f-aa29f40b55a2",
   "metadata": {},
   "outputs": [],
   "source": [
    "geom = boundconv\n",
    "count = TubenearOA\n",
    "\n",
    "Dataframe2 = pd.merge(geom, count, right_on=\"LSOA21CD\", left_on=\"LSOA21CD\")"
   ]
  },
  {
   "cell_type": "markdown",
   "id": "321d204a-6d3c-4157-b2a0-fb26290b4d2c",
   "metadata": {},
   "source": [
    "adding TubenearOA to the existing main geodataframe and labelling it as 'Dataframe2'"
   ]
  },
  {
   "cell_type": "code",
   "execution_count": null,
   "id": "313291de-92f5-40f3-8e20-4a982a7eae9f",
   "metadata": {},
   "outputs": [],
   "source": [
    "Dataframe2.head()"
   ]
  },
  {
   "cell_type": "code",
   "execution_count": null,
   "id": "6a16dec4-ca52-4dcf-9938-0f66ea4df677",
   "metadata": {},
   "outputs": [],
   "source": [
    "keep_cols = [\n",
    "    \"LSOA21CD\",\n",
    "    \"TubenearOA\",]"
   ]
  },
  {
   "cell_type": "code",
   "execution_count": null,
   "id": "c248c66e-fe71-4498-b68e-344d39c350d4",
   "metadata": {},
   "outputs": [],
   "source": []
  },
  {
   "cell_type": "code",
   "execution_count": null,
   "id": "9616126b-9261-4426-9a18-9f439daefde4",
   "metadata": {},
   "outputs": [],
   "source": [
    "Dataframe3 = Dataframe2[keep_cols]"
   ]
  },
  {
   "cell_type": "code",
   "execution_count": null,
   "id": "17e04251-120d-413c-bb6f-1c6940500062",
   "metadata": {},
   "outputs": [],
   "source": [
    "Dataframe2.explore(\"TubenearOA\", cmap = 'Greens')"
   ]
  },
  {
   "cell_type": "markdown",
   "id": "332e4a6d-e6cb-41e2-b429-249a02ee75d4",
   "metadata": {},
   "source": [
    "![c1](c1.png)"
   ]
  },
  {
   "cell_type": "markdown",
   "id": "3a3808c8-77b6-4a75-a3c3-7a0ac8efa4a4",
   "metadata": {},
   "source": [
    "observing the TubenearOA variable"
   ]
  },
  {
   "cell_type": "code",
   "execution_count": null,
   "id": "757700e9-f5dd-45cf-94b6-a9783bc928f8",
   "metadata": {},
   "outputs": [],
   "source": [
    "Dataframe = pd.merge(Dataframe, Dataframe3, right_on=\"LSOA21CD\", left_on=\"LSOA21CD\")\n"
   ]
  },
  {
   "cell_type": "markdown",
   "id": "d2af997c-a4d0-486f-89dd-aa4689c5122e",
   "metadata": {},
   "source": [
    "Merging the two dataframes to produce a unified outcome with all the data"
   ]
  },
  {
   "cell_type": "code",
   "execution_count": null,
   "id": "131e2eee-37ca-4b24-93b2-555bc817a360",
   "metadata": {},
   "outputs": [],
   "source": [
    "Dataframe.head()"
   ]
  },
  {
   "cell_type": "code",
   "execution_count": null,
   "id": "63bb1298-dd4d-469b-b942-cdddc494b9ae",
   "metadata": {},
   "outputs": [],
   "source": [
    "Dataframe = Dataframe.to_crs(\"EPSG:27700\")"
   ]
  },
  {
   "cell_type": "markdown",
   "id": "cee66e3b-81e5-49d7-a4d6-aa554fab3816",
   "metadata": {},
   "source": [
    "Conversion to EPSG:27700 as to obtain centroids using metres"
   ]
  },
  {
   "cell_type": "code",
   "execution_count": null,
   "id": "b899af30-d9a5-4e1f-97dc-3bb5c1b645c5",
   "metadata": {},
   "outputs": [],
   "source": [
    "Dataframe['centroid'] = Dataframe['geometry'].centroid"
   ]
  },
  {
   "cell_type": "code",
   "execution_count": null,
   "id": "5f1f61f7-a54c-4b90-97ec-ba67f3320550",
   "metadata": {},
   "outputs": [],
   "source": [
    "distances = Dataframe['centroid'].apply(lambda x: tube['geometry'].distance(x))"
   ]
  },
  {
   "cell_type": "markdown",
   "id": "5074b657-8d19-4d7d-aee2-82f1183164ce",
   "metadata": {},
   "source": [
    "Creating a new function which calculates the distance from the centroid of each LSOA to the tube station locations"
   ]
  },
  {
   "cell_type": "code",
   "execution_count": null,
   "id": "f262b61e-ad64-4b5c-83b4-4580a480e3b1",
   "metadata": {},
   "outputs": [],
   "source": [
    "closest_tube = distances.min(axis=1)\n",
    "Dataframe['closest_tube'] = closest_tube"
   ]
  },
  {
   "cell_type": "markdown",
   "id": "27717444-fe31-4d65-a420-f28f144ef7dc",
   "metadata": {},
   "source": [
    "The closest_tube variable calculates the minimum distance to any of the London Underground stations"
   ]
  },
  {
   "cell_type": "code",
   "execution_count": null,
   "id": "82cde813-3e9f-40ed-a7e9-630b719aa196",
   "metadata": {
    "scrolled": true
   },
   "outputs": [],
   "source": [
    "Dataframe.tail()"
   ]
  },
  {
   "cell_type": "code",
   "execution_count": null,
   "id": "2eb2260e-7e8f-4dc9-bb7f-bc82200e4ee0",
   "metadata": {},
   "outputs": [],
   "source": [
    "filtered_df = Dataframe.loc[Dataframe['closest_tube'] < 30000]"
   ]
  },
  {
   "cell_type": "markdown",
   "id": "28f3ce32-0fb9-4aa1-960d-3541fbfabd8b",
   "metadata": {},
   "source": [
    "There was some issue with my data in that some of the geometry was a bit off. A LSOA area was recorded as being extant 40000 metres from the nearest tube station, throwing off the gradient. As such I removed it"
   ]
  },
  {
   "cell_type": "code",
   "execution_count": null,
   "id": "20b602c8-c3eb-4fc4-b9b9-8c147da4e302",
   "metadata": {
    "scrolled": true
   },
   "outputs": [],
   "source": [
    "filtered_df"
   ]
  },
  {
   "cell_type": "code",
   "execution_count": null,
   "id": "8b944778-fff7-46b4-90b1-25d2e00656f4",
   "metadata": {
    "scrolled": true
   },
   "outputs": [],
   "source": [
    "filtered_df.explore(\"closest_tube\", cmap = 'Reds')"
   ]
  },
  {
   "cell_type": "markdown",
   "id": "1e499515-7b4f-466a-9822-3852d484befb",
   "metadata": {},
   "source": [
    "![c2](c2.png)"
   ]
  },
  {
   "cell_type": "code",
   "execution_count": null,
   "id": "736af2a2-99b3-45fa-9533-3a5dbb040408",
   "metadata": {},
   "outputs": [],
   "source": [
    "filtered_df.tail()"
   ]
  },
  {
   "cell_type": "markdown",
   "id": "5d5118de-13f8-4614-b32c-57680d99901c",
   "metadata": {},
   "source": [
    "The shape file was used to provide a set of boundaries to aggregate the distribution of Cycle and Tube Station points providing a metric through which to measure the amount of each facility on an area-by-area basis. I choose to create a set of buffers delimiting a radius 400 metres from the location of each of the Cycle Hire and Tube Station points. The 400-metre value was specified in accordance with the common consensus that 477 metres is the average distance a pedestrian will routinely travel to a transit stop from their place of residence. Accounting for variation in street network orientation and the fact that any buffers overlapping with LSOAs will contribute toward the count of the entire polygon it made sense to reduce the buffer distance. I didn’t apply any buffers to the point locations for the Cycle Parking facility as I felt people would be less willing to walk considerable distances to access cycle parking storage especially as cycle storage facilities are typically used to store cycles at the conclusion of their journey necessitating a position adjacent to their destination. As an additional variable I decided to calculate the distance from the centre of each LSOA to the closest Tube station point with the intention being as to make note of whether an enhanced distance from a transit stop held any correlation for the included demographic variables."
   ]
  },
  {
   "cell_type": "code",
   "execution_count": null,
   "id": "29d29418-a5d5-4022-924c-fcb05c446cf5",
   "metadata": {},
   "outputs": [],
   "source": [
    "import mapclassify as mc\n",
    "import matplotlib.pyplot as plt\n",
    "import folium\n",
    "import seaborn as sns"
   ]
  },
  {
   "cell_type": "markdown",
   "id": "fd8740bc-cb08-4d24-9cbc-c19fda0499bc",
   "metadata": {},
   "source": [
    "Importing functions to create histograms to optimise the creation of breaks to visualise how each of the six newly created variables differ across the Inner London study area"
   ]
  },
  {
   "cell_type": "code",
   "execution_count": null,
   "id": "ebc02e71-ba58-410a-ad91-9046d29b02f3",
   "metadata": {},
   "outputs": [],
   "source": [
    "fig, axes = plt.subplots(3, 2, figsize=(30, 20))\n",
    "\n",
    "\n",
    "sns.histplot(data=filtered_df, x=\"BikenearOA\",ax=axes[0, 0], kde=True) \n",
    "sns.histplot(data=filtered_df, x=\"ParkperOA\",ax=axes[0, 1], kde=True) \n",
    "sns.histplot(data=filtered_df, x=\"Parkrate\",ax=axes[1, 0], kde=True) \n",
    "sns.histplot(data=filtered_df, x=\"Bikerate\",ax=axes[1, 1], kde=True) \n",
    "sns.histplot(data=filtered_df, x=\"TubenearOA\",ax=axes[2, 0], kde=True) \n",
    "sns.histplot(data=filtered_df, x=\"closest_tube\",ax=axes[2, 1], kde=True) \n",
    "\n",
    "plt.tight_layout()\n",
    "plt.show()"
   ]
  },
  {
   "cell_type": "markdown",
   "id": "13805a50-77e8-4ec0-9604-6e1cdeab0f38",
   "metadata": {},
   "source": [
    "![d](d.png)"
   ]
  },
  {
   "cell_type": "code",
   "execution_count": null,
   "id": "cea1b2e9-11e2-476a-bcbe-cc7a8c7df5ce",
   "metadata": {},
   "outputs": [],
   "source": [
    "num_classes = 5\n",
    "\n",
    "classifier_a = mc.NaturalBreaks(filtered_df['BikenearOA'], k=num_classes)\n",
    "classifier_b = mc.NaturalBreaks(filtered_df['ParkperOA'], k=num_classes)\n",
    "classifier_c = mc.NaturalBreaks(filtered_df['Parkrate'], k=num_classes)\n",
    "classifier_d = mc.NaturalBreaks(filtered_df['Bikerate'], k=num_classes)\n",
    "classifier_e = mc.NaturalBreaks(filtered_df['TubenearOA'], k=num_classes)\n",
    "classifier_f = mc.NaturalBreaks(filtered_df['closest_tube'], k=num_classes)"
   ]
  },
  {
   "cell_type": "markdown",
   "id": "054d9d9e-8248-4790-94f1-b40f387271db",
   "metadata": {},
   "source": [
    "Creating a sequence of natural breaks detailing the distribution of LSOAs within the histogram for each of the six new variables "
   ]
  },
  {
   "cell_type": "code",
   "execution_count": null,
   "id": "9e57acf9-56b8-49a4-8adc-6adbfbd1f349",
   "metadata": {},
   "outputs": [],
   "source": [
    "fig, axs = plt.subplots(3, 2, figsize=(30, 20))\n",
    "\n",
    "filtered_df.plot(column='BikenearOA', ax=axs[0, 0],\n",
    "         legend=True, cmap='Greens',\n",
    "         scheme='UserDefined',\n",
    "         classification_kwds={'bins': classifier_a.bins}\n",
    "        )\n",
    "\n",
    "axs[0, 0].set_title(\"Cycle Hire Stations within walking distance of OA\")\n",
    "\n",
    "filtered_df.plot(column='ParkperOA', ax=axs[0, 1],\n",
    "         legend=True, cmap='Greens',\n",
    "         scheme='UserDefined',\n",
    "         classification_kwds={'bins': classifier_b.bins})\n",
    "\n",
    "axs[0, 1].set_title(\"Cycle parking frames within OA\")\n",
    "\n",
    "filtered_df.plot(column='Parkrate', ax=axs[1, 0],\n",
    "         legend=True, cmap='Greens',\n",
    "         scheme='UserDefined',\n",
    "         classification_kwds={'bins': classifier_c.bins}\n",
    "        )\n",
    "\n",
    "axs[1, 0 ].set_title(\"Parking Frames per metre\")\n",
    "\n",
    "filtered_df.plot(column='Bikerate', ax=axs[1, 1],\n",
    "         legend=True, cmap='Greens',\n",
    "         scheme='UserDefined',\n",
    "         classification_kwds={'bins': classifier_d.bins}\n",
    "        )\n",
    "\n",
    "axs[1, 1].set_title(\"Nearby Cycle Hire Station per metree\")\n",
    "\n",
    "filtered_df.plot(column='TubenearOA', ax=axs[2, 0],\n",
    "         legend=True, cmap='Greens',\n",
    "         scheme='UserDefined',\n",
    "         classification_kwds={'bins': classifier_e.bins}\n",
    "        )\n",
    "\n",
    "axs[2, 0].set_title(\"Tube stations within walking distance\")\n",
    "\n",
    "filtered_df.plot(column='closest_tube', ax=axs[2, 1],\n",
    "         legend=True, cmap='Greens_r',\n",
    "         scheme='UserDefined',\n",
    "         classification_kwds={'bins': classifier_f.bins}\n",
    "        )\n",
    "\n",
    "axs[2, 1].set_title(\"Distance from Tube station\")\n",
    "\n",
    "\n",
    "plt.tight_layout() \n",
    "plt.show()\n"
   ]
  },
  {
   "cell_type": "markdown",
   "id": "fef48f29-5dc6-41ad-9cb7-16c78b5f3322",
   "metadata": {},
   "source": [
    "![d2](d2.png)"
   ]
  },
  {
   "cell_type": "markdown",
   "id": "9f9d9fe5-543a-4e8d-ac42-ab03a6614720",
   "metadata": {},
   "source": [
    "Using Folium to plot the six map outcomes using fisher Jenkins breaks"
   ]
  },
  {
   "cell_type": "markdown",
   "id": "6132a092-35b2-41cc-abb8-3542ad869e62",
   "metadata": {},
   "source": [
    "I identified a set of 18 variables obtained from the 2021 Census website, obtaining data for each of the LSOA areas within my identified ‘Inner London’ study area. Each of the variables were selected on the grounds that they would be able to break the wider population down into a series of smaller demographic groups in accordance with principally socio-economic and identity-based categorisations. This was such that observation of the fashion in which an overlap between identity and geographic distribution could be noted. This is in acknowledgement that, because of successive policy interventions London stands to be a city mired by spatial stratification with the clustering of various socio-economic and ethnic groups in immediate adjacency to one another. Specific census categories associated with the quality and type of housing resided in, in addition to health-related criteria were particularly interesting to me, in that I sought to examine the degree to which unequal outcomes historically present are replicated as of 2021. Poorer health is a particularly critical variable in that it presents a key intersectionality between mobility and socio-economic outcomes. In 2019 roughly 4,000 Londoners died as a result of the impact of toxic air pollution with those exposed to the worst air pollution being more likely to be deprived Londoners and those from BAME communities. It seems plausible to draw a hypothesis in which those most distant from active and public transit options, yet without the capacity to use private transportation are subset to a double discrimination of economic isolation and enhanced negative-health related pushback. I decided to add variables delimiting the uptake of driving as the principle means of getting to work in addition to a variable marking those who were employed only a part-time basis. The rationale behind including these two variables was founded on an understanding that those residing in areas of poor public transport provision may be forced to rely on private transport or adopt an economically inactive lifestyle on account of poor accessibility to employment opportunities. Thus, inaccessibility to alternative transportation means may enforce a ‘double discrimination’ in that already an already disadvantaged population are forced to invest in alternative means of transportation or exclude themselves from Society. A vicious cycle which fuels disillusionment and crime. "
   ]
  },
  {
   "cell_type": "code",
   "execution_count": null,
   "id": "b89101d0-9131-4104-8682-d1acea45332a",
   "metadata": {},
   "outputs": [],
   "source": [
    "import pandas as pd\n",
    "import os\n",
    "\n",
    "csv_directory = \"bigOne/\"\n",
    "\n",
    "csv_files = [file for file in os.listdir(csv_directory) if file.endswith(\".csv\")]\n",
    "\n",
    "merged_data = pd.DataFrame()\n",
    "for csv_file in csv_files:\n",
    "    csv_path = os.path.join(csv_directory, csv_file) \n",
    "    df_csv = pd.read_csv(csv_path, low_memory=False) \n",
    "    merged_data = pd.concat([merged_data, df_csv], axis=1)\n",
    "\n",
    "merged_data.to_csv(\"bigone/merged_census_data.csv\", index=False)\n"
   ]
  },
  {
   "cell_type": "markdown",
   "id": "a8ed9642-73ce-4e63-808f-fd3bede3e3c9",
   "metadata": {},
   "source": [
    "Importing the os module for data analysis. I have created a loop which cycles through all the csv files within the designated directory 'bigOne'. The loop goes ahead and merges all of the csv files to one large dataframe containing all of the CSV files."
   ]
  },
  {
   "cell_type": "code",
   "execution_count": null,
   "id": "88027250-0042-442d-8f82-210f55234d2d",
   "metadata": {},
   "outputs": [],
   "source": [
    "import pandas as pd\n",
    "import geopandas as gpd\n",
    "\n",
    "shp_path = \"InnerLondon/InnerLondonMSOA.shp\"\n",
    "gdf = gpd.read_file(shp_path)"
   ]
  },
  {
   "cell_type": "markdown",
   "id": "dbd25947-585d-47c7-afc8-60e74264d3a8",
   "metadata": {},
   "source": [
    "Reading the Inner London shape file again, as to have it fresh out the box and in my head. Easy to forget what is happening!"
   ]
  },
  {
   "cell_type": "code",
   "execution_count": null,
   "id": "8e831c54-33bd-4cd6-b98e-378aa76f34af",
   "metadata": {},
   "outputs": [],
   "source": [
    "csv_path = \"bigone/merged_census_data.csv\"\n",
    "csv_data = pd.read_csv(csv_path, low_memory=False)\n",
    "merged_data = gdf.merge(csv_data, left_on='LSOA21CD', right_on='Row Labels', how='left')"
   ]
  },
  {
   "cell_type": "markdown",
   "id": "c8766acf-4f91-4f5b-aa91-b9285af9cac9",
   "metadata": {},
   "source": [
    "I then merge the data one geodataframe using LSOA21CD as a key. This is saved under merged_data "
   ]
  },
  {
   "cell_type": "code",
   "execution_count": null,
   "id": "c7bb9dd3-1abd-43d3-af21-35ae5925b2ea",
   "metadata": {},
   "outputs": [],
   "source": [
    "merged_data.tail()"
   ]
  },
  {
   "cell_type": "code",
   "execution_count": null,
   "id": "abb47249-11e0-4276-9ed8-22cd5ba581ae",
   "metadata": {
    "scrolled": true
   },
   "outputs": [],
   "source": [
    "list(merged_data.columns)"
   ]
  },
  {
   "cell_type": "code",
   "execution_count": null,
   "id": "3c86a929-3229-4c80-a9c8-556dbded6366",
   "metadata": {},
   "outputs": [],
   "source": [
    "def calculate_percentages(dataframe, total_columns, value_columns):\n",
    "\n",
    "    result_df = pd.DataFrame()\n",
    "\n",
    "    for total_col, value_col in zip(total_columns, value_columns):\n",
    "        percentage_col_name = f\"{value_col}_percentage\"\n",
    "\n",
    "        if total_col not in dataframe.columns:\n",
    "            raise ValueError(f\"Total column '{total_col}' not found in the DataFrame.\")\n",
    "        dataframe[value_col] = pd.to_numeric(dataframe[value_col], errors='coerce')\n",
    "        dataframe[total_col] = pd.to_numeric(dataframe[total_col], errors='coerce')\n",
    "        \n",
    "        result_df[percentage_col_name] = (dataframe[value_col] / dataframe[total_col]) * 100\n",
    "\n",
    "    return result_df\n",
    "\n",
    "total_cols = ['TotalDep',\n",
    "              'TotalDist',\n",
    "              'TotalDist',\n",
    "              'TotalEmploy',\n",
    "              'TotalEmploy',\n",
    "              'TotalEmploystat', \n",
    "              'TotalHousing',\n",
    "              'TotalHousing',\n",
    "              'TotalRel',\n",
    "              'TotalRel',\n",
    "              'TotalHome', \n",
    "              'TotalSex',\n",
    "              'TotalCrowd',\n",
    "              'TotalCrowd',\n",
    "              'TotalType',\n",
    "              'TotalEnglish','TotalTrans',\n",
    "              'TotalHour']\n",
    " \n",
    "value_cols = ['Household is not deprived in any dimension',\n",
    "              'Works mainly from home',\n",
    "              'Works mainly at an offshore installation, in no fixed place, or outside the UK',\n",
    "              'L14.1 and L14.2: Never worked and long-term unemployed',\n",
    "              'L15: Full-time students',\n",
    "              'Economically inactive: Long-term sick or disabled',\n",
    "              'Social rented: Rents from council or Local Authority',\n",
    "              'Owned: Owns outright',\n",
    "              'Christian',\n",
    "              'Muslim',\n",
    "              'Second address is outside the UK',\n",
    "              'Male',\n",
    "              'Occupancy rating of rooms: -2 or less',\n",
    "              'Occupancy rating of rooms: +2 or more',\n",
    "              'Detached',\n",
    "              'Main language is not English (English or Welsh in Wales): Cannot speak English well', 'Driving a car or van',\n",
    "             'Part-time: 15 hours or less worked']\n",
    "\n",
    "result_dataframe = calculate_percentages(merged_data, total_cols, value_cols)"
   ]
  },
  {
   "cell_type": "markdown",
   "id": "5857345b-9cf3-4d6a-8dbc-59efaa485d50",
   "metadata": {},
   "source": [
    "The code above does as follows, I am intially creating an empty dataframe result_df before looping through the columns as specified above. For each pair of columns I'm creating a percentage value based on the total value for each row, as specified above. These are stored in a new column within the dataframe. Additionally I am checking that all values are numerical and if not I give the value NaN before returning the values in the dataframe, result_dataframe."
   ]
  },
  {
   "cell_type": "code",
   "execution_count": null,
   "id": "8cdaf9be-176f-46fc-bd9d-e6e69a4e5986",
   "metadata": {},
   "outputs": [],
   "source": [
    "result_dataframe.tail()"
   ]
  },
  {
   "cell_type": "code",
   "execution_count": null,
   "id": "28a555d8-f10a-4508-88bd-fe556b8fdb5b",
   "metadata": {
    "scrolled": true
   },
   "outputs": [],
   "source": [
    "concatenated_df = pd.concat([merged_data, result_dataframe], axis=1, ignore_index=False)\n",
    "concatenated_df.tail()"
   ]
  },
  {
   "cell_type": "markdown",
   "id": "294a8940-0a6e-4b56-95d4-13ec3ba6329c",
   "metadata": {},
   "source": [
    "The latest iteration of my dataframe is to be called concatenated_df and consists of the new percentage values as stored in 'result_dataframe' and the merged_data dataframe containing the rest of my data."
   ]
  },
  {
   "cell_type": "code",
   "execution_count": null,
   "id": "7c9b515d-a143-4f7b-8f11-568508d691a9",
   "metadata": {
    "scrolled": true
   },
   "outputs": [],
   "source": [
    "list(concatenated_df.columns)"
   ]
  },
  {
   "cell_type": "code",
   "execution_count": null,
   "id": "b88a53d9-e6da-4b18-a6ba-09f9a2e58e1b",
   "metadata": {},
   "outputs": [],
   "source": [
    "keep_cols= [\n",
    "    'LSOA21CD',\n",
    "    'geometry',\n",
    "    'Household is not deprived in any dimension_percentage',\n",
    " 'Works mainly from home_percentage',\n",
    " 'Works mainly at an offshore installation, in no fixed place, or outside the UK_percentage',\n",
    " 'L14.1 and L14.2: Never worked and long-term unemployed_percentage',\n",
    " 'L15: Full-time students_percentage',\n",
    " 'Economically inactive: Long-term sick or disabled_percentage',\n",
    " 'Social rented: Rents from council or Local Authority_percentage',\n",
    " 'Owned: Owns outright_percentage',\n",
    " 'Christian_percentage',\n",
    " 'Muslim_percentage',\n",
    " 'Second address is outside the UK_percentage',\n",
    " 'Male_percentage',\n",
    "    'Occupancy rating of rooms: -2 or less_percentage',\n",
    "    'Occupancy rating of rooms: +2 or more_percentage',\n",
    "    'Detached_percentage',\n",
    "    'Main language is not English (English or Welsh in Wales): Cannot speak English well_percentage',\n",
    "    'Driving a car or van_percentage',\n",
    " 'Part-time: 15 hours or less worked_percentage']\n",
    "\n",
    "Dataframe4 = concatenated_df[keep_cols]"
   ]
  },
  {
   "cell_type": "markdown",
   "id": "1c7e2d5c-57ce-43b3-89e2-af47d5d224a0",
   "metadata": {},
   "source": [
    "I am now specifing to keep only the geometry, LSOA code and associated percentage values in my most yp to date dataframe."
   ]
  },
  {
   "cell_type": "code",
   "execution_count": null,
   "id": "ef933387-7c3e-4164-8490-93cb948ee70d",
   "metadata": {},
   "outputs": [],
   "source": [
    "short_column_names = {\n",
    "    'Household is not deprived in any dimension_percentage' : 'Not Deprived',\n",
    " 'Works mainly from home_percentage' : 'Home Worker',\n",
    " 'Works mainly at an offshore installation, in no fixed place, or outside the UK_percentage' : 'Mobile Worker',\n",
    " 'L14.1 and L14.2: Never worked and long-term unemployed_percentage' : 'Unemployed',\n",
    " 'L15: Full-time students_percentage' : 'Student',\n",
    " 'Economically inactive: Long-term sick or disabled_percentage' : 'Disabled',\n",
    " 'Social rented: Rents from council or Local Authority_percentage' : 'Social Renter',\n",
    " 'Owned: Owns outright_percentage' : 'Owner',\n",
    " 'Christian_percentage' : 'Christian',\n",
    " 'Muslim_percentage' : 'Muslim',\n",
    " 'Second address is outside the UK_percentage' : 'Oversees address',\n",
    " 'Male_percentage' : 'Male',\n",
    "    'Occupancy rating of rooms: -2 or less_percentage' : 'Overcrowded',\n",
    "    'Occupancy rating of rooms: +2 or more_percentage' : 'Capacity spare' ,\n",
    "    'Detached_percentage' : 'Detatched',\n",
    "    'Main language is not English (English or Welsh in Wales): Cannot speak English well_percentage': 'Not fluent',\n",
    "      'Driving a car or van_percentage': 'Driver',\n",
    " 'Part-time: 15 hours or less worked_percentage':'Part-time'\n",
    "}\n",
    "\n",
    "Dataframe4 = Dataframe4.rename(columns=short_column_names)"
   ]
  },
  {
   "cell_type": "markdown",
   "id": "7c31a21b-5c91-4aee-97d9-e9e99903a2e9",
   "metadata": {},
   "source": [
    "For ease of use I'm specifying a set of shorter column names, which will help in the analysis portion"
   ]
  },
  {
   "cell_type": "code",
   "execution_count": null,
   "id": "58591d33-e637-4e20-8f54-d3ff78029f22",
   "metadata": {
    "scrolled": true
   },
   "outputs": [],
   "source": [
    "Dataframe4.tail()"
   ]
  },
  {
   "cell_type": "code",
   "execution_count": null,
   "id": "30a309af-d056-4050-bfad-6d027ae3f5a9",
   "metadata": {},
   "outputs": [],
   "source": [
    "Dataframe4.columns"
   ]
  },
  {
   "cell_type": "code",
   "execution_count": null,
   "id": "027bbc8a-3fe7-48a7-a422-f78820e59c0d",
   "metadata": {},
   "outputs": [],
   "source": [
    "Dataframe4.dtypes"
   ]
  },
  {
   "cell_type": "code",
   "execution_count": null,
   "id": "f92e7f94-2233-4501-b094-67fd03637dd5",
   "metadata": {},
   "outputs": [],
   "source": [
    "numeric_columns = Dataframe4.select_dtypes(include='float64')\n",
    "z_score_df = (numeric_columns - numeric_columns.mean()) / numeric_columns.std(ddof=0)\n",
    "z_score_df.tail()"
   ]
  },
  {
   "cell_type": "markdown",
   "id": "4bb5ab6f-eb88-4bd4-927b-7ff5954e16e3",
   "metadata": {},
   "source": [
    "In order to create a correlation matrix I need to standardise the variables. This is achieved through applying a formula which subtacts the mean over the standard deviation of a column from each numerical value in the dataframe. This output is to be saved in a new dataframe called z_score_df."
   ]
  },
  {
   "cell_type": "code",
   "execution_count": null,
   "id": "f70814a1-b5da-48d6-bd3c-86540b55bf40",
   "metadata": {},
   "outputs": [],
   "source": [
    "corr = z_score_df.corr()\n",
    "corr.style.background_gradient(cmap='coolwarm')"
   ]
  },
  {
   "cell_type": "markdown",
   "id": "fce1a1b5-fd59-4d83-87c8-d879e02a52c8",
   "metadata": {},
   "source": [
    "![e](e.png)"
   ]
  },
  {
   "cell_type": "markdown",
   "id": "ef7b2342-533f-456a-9b04-d296ce31a5ad",
   "metadata": {},
   "source": [
    "Here I have created a correlation matrix specifying the relationship between each of the variables. The greater the correlation the more intense the colour gradient."
   ]
  },
  {
   "cell_type": "code",
   "execution_count": null,
   "id": "925b1f04-45fc-417e-88d3-a4f4ebcd0112",
   "metadata": {},
   "outputs": [],
   "source": [
    "import matplotlib.pyplot as plt\n",
    "\n",
    "plt.matshow(z_score_df.corr())\n",
    "plt.show()"
   ]
  },
  {
   "cell_type": "markdown",
   "id": "072f59b0-83e0-4a1c-98ab-5126c6b67422",
   "metadata": {},
   "source": [
    "![e1](e1.png)"
   ]
  },
  {
   "cell_type": "markdown",
   "id": "6cf8ef39-f0b1-4154-bc3b-882fbbc08ae3",
   "metadata": {},
   "source": [
    "And here is a simplified Rasterised version of the above matrix. Interesting!"
   ]
  },
  {
   "cell_type": "code",
   "execution_count": null,
   "id": "33fda7c3-d591-4883-8433-4fce2ae77210",
   "metadata": {},
   "outputs": [],
   "source": [
    "import seaborn as sns\n",
    "\n",
    "threshold = 0.75\n",
    "\n",
    "\n",
    "highly_correlated = (corr.abs() > threshold) & (corr.abs() < 1.0)\n",
    "\n",
    "plt.figure(figsize=(10, 8))\n",
    "sns.heatmap(highly_correlated, cmap='coolwarm', cbar=False, annot=True)\n",
    "\n",
    "plt.title('Highly Correlated Variables')\n",
    "plt.show()"
   ]
  },
  {
   "cell_type": "markdown",
   "id": "808ce2f8-ed49-4c02-b7e8-261aafd13f59",
   "metadata": {},
   "source": [
    "![e2](e2.png)"
   ]
  },
  {
   "cell_type": "markdown",
   "id": "4ab3142c-b371-4d93-9c96-e1a0010644f2",
   "metadata": {},
   "source": [
    "The 18 variables were then placed through a further selection process by which they were subject to standardisation with each metric having its z-score calculated through dividing the column mean by the column standard deviation. The Z-score outputs were then placed in a correlation matrix such that any variables with a correlation threshold above 0.75 would be considered for removal. When choosing which of the two correlated variables to bin I placed a preference on keeping the variable which was responsible for the greatest number of correlations between it and its peers. As such I would be left with a slimmer number of more influential variables."
   ]
  },
  {
   "cell_type": "markdown",
   "id": "57517678-777a-4543-affe-6e48cab75298",
   "metadata": {},
   "source": [
    "I have imported seasborn to enable this visualisation. I have set a threshold of 0.75 such that if the relationship between any two variables correlations to a degree in excess of this it shall be selected and coloured red within a new matrix."
   ]
  },
  {
   "cell_type": "code",
   "execution_count": null,
   "id": "6cfceb7e-6dd3-4912-8b57-41bffd31c3b3",
   "metadata": {},
   "outputs": [],
   "source": [
    "z_score_df.drop(['Home Worker', 'Unemployed', 'Owner', 'Overcrowded','Muslim'], axis=1, inplace=True)\n",
    "z_score_df.info()"
   ]
  },
  {
   "cell_type": "markdown",
   "id": "3a6f62f1-cb8c-42ae-b088-f25667f53d64",
   "metadata": {},
   "source": [
    "Upon obtaining the results from this matrix I have identified 5 variables which ought to be dropped from the analysis on account of strong correlation"
   ]
  },
  {
   "cell_type": "code",
   "execution_count": null,
   "id": "981218ef-cfae-4a33-b93b-9a243789386c",
   "metadata": {},
   "outputs": [],
   "source": [
    "z_score_df.fillna(z_score_df.mean(), inplace=True)"
   ]
  },
  {
   "cell_type": "markdown",
   "id": "e1694feb-9013-4011-a67e-decc8880cfed",
   "metadata": {},
   "source": [
    "And again, filling the mean values to ensure everything goes smoothly"
   ]
  },
  {
   "cell_type": "code",
   "execution_count": null,
   "id": "328df24c-fc5c-44b1-b086-9c6a33c60bb6",
   "metadata": {},
   "outputs": [],
   "source": [
    "from sklearn.cluster import KMeans\n",
    "from scipy.spatial.distance import cdist, pdist\n",
    "\n",
    "# KMeans with 10 clusters\n",
    "kmeans = KMeans(n_clusters=10)\n",
    "kmeans.fit(z_score_df)\n",
    "labels = kmeans.predict(z_score_df)\n",
    "cluster_centres = kmeans.cluster_centers_\n",
    "z_score_df['Cluster'] = kmeans.labels_"
   ]
  },
  {
   "cell_type": "markdown",
   "id": "f1e1fcdb-fef2-4278-be9e-8c008d34cbd8",
   "metadata": {},
   "source": [
    "I then ran a K-means cluster analysis with the remaining variables to split to data into a number of unique cluster groups based on the error sum of square measures. The algorithm uses a cluster centre and calculates the scenario in which the distance between it and a set of outlying points are reduced, with the points being assigned a cluster centre based on this and the similarity it has with the data values held by the randomly generated cluster seed. I produced 10 cluster value seeds based on the values in the Z-score matrix. As the histogram demonstrated that there was much variability between the sizes of the clusters I sought to promote a scenario of increased equitability. This was done through running the Elbow method which involves the use of a graphical visualisation to demonstrate how the addition of each new cluster group influences the K-value, demarking the point at which the addition of a new cluster group ceases to improve the model to a reasonable extent’ at a point of diminishing returns. The number of clusters noted at this Elbow point was 5 and such I proceeded in specifying this as the number of clusters. Upon running the analysis each of the LSOAs over the specified Inner London study area was ascribed a cluster value with the output being as shown."
   ]
  },
  {
   "cell_type": "code",
   "execution_count": null,
   "id": "5a51fed8-372c-47f7-b7eb-34191beac43f",
   "metadata": {},
   "outputs": [],
   "source": [
    "plt.hist(labels)"
   ]
  },
  {
   "cell_type": "markdown",
   "id": "8c8d3c07-296d-46da-8cdd-d5aff18ebc92",
   "metadata": {},
   "source": [
    "![e3](e3.png)"
   ]
  },
  {
   "cell_type": "code",
   "execution_count": null,
   "id": "26d484a8-28b6-4fcf-8ee2-b694c34400fd",
   "metadata": {},
   "outputs": [],
   "source": [
    "Sum_of_squared_distances = []\n",
    "\n",
    "K_range = range(1,15)\n",
    "\n",
    "for k in K_range:\n",
    " km = KMeans(n_clusters=k, random_state = 26)\n",
    " km = km.fit(z_score_df)\n",
    " Sum_of_squared_distances.append(km.inertia_)\n",
    "    \n",
    "plt.plot(K_range, Sum_of_squared_distances, 'bx-')\n",
    "plt.xlabel('k')\n",
    "plt.ylabel('Sum_of_squared_distances')\n",
    "plt.title('Elbow Method For Optimal k')\n",
    "plt.show()"
   ]
  },
  {
   "cell_type": "markdown",
   "id": "f837e3ff-8cc6-4d6f-8327-8414402ef39b",
   "metadata": {},
   "source": [
    "![e4](e4.png)"
   ]
  },
  {
   "cell_type": "code",
   "execution_count": null,
   "id": "d0a04d51-5c5c-4c2c-aa24-8df32194d796",
   "metadata": {},
   "outputs": [],
   "source": [
    "kmeans = KMeans(n_clusters=5, random_state = 26)\n",
    "kmeans.fit(z_score_df)\n",
    "labels = kmeans.predict(z_score_df)\n",
    "cluster_centres = kmeans.cluster_centers_\n",
    "\n",
    "z_score_df['Cluster'] = kmeans.labels_"
   ]
  },
  {
   "cell_type": "code",
   "execution_count": null,
   "id": "1844e186-2927-446b-bb7e-1684d2d636e4",
   "metadata": {},
   "outputs": [],
   "source": [
    "import plotly.express as px\n",
    "from sklearn.decomposition import PCA\n",
    "from sklearn.preprocessing import StandardScaler\n",
    "import numpy as np\n",
    "\n",
    "plt.figure(figsize=(12, 8))\n",
    "\n",
    "kmeans = KMeans(n_clusters=5, random_state = 26)\n",
    "clusters = kmeans.fit_predict(z_score_df)\n",
    "\n",
    "z_score_df['Cluster'] = clusters\n",
    "\n",
    "scaler = StandardScaler()\n",
    "stand_data_scaled = scaler.fit_transform(z_score_df)\n",
    "\n",
    "# PCA analysys.\n",
    "pca = PCA(n_components=2).fit(stand_data_scaled)\n",
    "pca_result = pca.transform(stand_data_scaled)\n",
    "\n",
    "#Percentage of variance explained by each of the selected components.\n",
    "variance_ratio = pca.explained_variance_ratio_\n",
    "\n",
    "# Create a scatter plot\n",
    "fig = px.scatter(x=pca_result[:, 0], y=pca_result[:, 1], color=clusters,\n",
    "                 labels={'color': 'Cluster'},\n",
    "                 #title='Cluster Plot against 1st 2 Principal Components',\n",
    "                 opacity=0.7,\n",
    "                 width=800, \n",
    "                 height=800)\n",
    "\n",
    "plt.tight_layout()\n",
    "fig.show()\n",
    "\n",
    "print(f\"These two components explain {(variance_ratio.sum()*100):.2f}% of the point variability.\")"
   ]
  },
  {
   "cell_type": "markdown",
   "id": "e8153d54-7900-4ec9-a991-8ca2e1932949",
   "metadata": {},
   "source": [
    "![f](f.png)"
   ]
  },
  {
   "cell_type": "code",
   "execution_count": null,
   "id": "f14aa1b5-aa94-4609-8c16-b422f96bf37d",
   "metadata": {},
   "outputs": [],
   "source": [
    "kmeans = KMeans(n_clusters=5, random_state = 26)\n",
    "clusters = kmeans.fit_predict(z_score_df)\n",
    "\n",
    "z_score_df['Cluster'] = clusters\n",
    "\n",
    "scaler = StandardScaler()\n",
    "stand_data_scaled = scaler.fit_transform(z_score_df)\n",
    "\n",
    "pca = PCA(n_components=2).fit(stand_data_scaled)\n",
    "pca_result = pca.transform(stand_data_scaled)\n",
    "\n",
    "variance_ratio = pca.explained_variance_ratio_\n",
    "\n",
    "plt.figure(figsize=(10, 6))\n",
    "sns.scatterplot(x=pca_result[:, 0], y=pca_result[:, 1], hue=clusters, palette='viridis', s=50, alpha=0.7)\n",
    "plt.title('Cluster Plot against 1st 2 Principal Components')\n",
    "plt.xlabel(f'Principal Component 1 variation: {variance_ratio[0]*100:.2f}%')\n",
    "plt.ylabel(f'Principal Component 2 variation: {variance_ratio[1]*100:.2f}%')\n",
    "plt.legend(title='Clusters')\n",
    "plt.show()\n"
   ]
  },
  {
   "cell_type": "markdown",
   "id": "a5f245dd-eff2-408b-9268-1e5a35b1aa1a",
   "metadata": {},
   "source": [
    "![f1](f1.png)"
   ]
  },
  {
   "cell_type": "code",
   "execution_count": null,
   "id": "63189f4b-6c6b-4f0e-9138-999ae3091f10",
   "metadata": {},
   "outputs": [],
   "source": [
    "kmeans = KMeans(n_clusters=5, random_state=26)\n",
    "clusters = kmeans.fit_predict(z_score_df)\n",
    "\n",
    "# Get the cluster centers\n",
    "cluster_centers = kmeans.cluster_centers_\n",
    "\n",
    "\n",
    "# Get the cluster centers\n",
    "cluster_centers = pd.DataFrame(kmeans.cluster_centers_, columns=z_score_df.columns)\n",
    "\n",
    "# Create a new DataFrame with cluster assignments and column names\n",
    "#result_df = pd.DataFrame({'Cluster': clusters, 'Column': z_score_df.columns})\n",
    "\n",
    "cluster_centers.head(6)"
   ]
  },
  {
   "cell_type": "markdown",
   "id": "328a4ebd-e764-4a7b-aa0c-5d86fbbbb8cb",
   "metadata": {},
   "source": [
    "Creating radial polar charts from the cluster centre values allows for a bespoke analysis of the variables which prompted the associated K=means cluster distribution. In this instance I manually cycled through each of the six cluster groups and took note of the attributed which held high Z-score of both positive and negative values"
   ]
  },
  {
   "cell_type": "code",
   "execution_count": null,
   "id": "6c58f585-4a8d-46bb-8be9-b4a286e25bc2",
   "metadata": {},
   "outputs": [],
   "source": [
    "first_row_centers = cluster_centers.iloc[0, :]\n",
    "\n",
    "# len of features\n",
    "num_features = len(first_row_centers)\n",
    "\n",
    "# polar coordinates\n",
    "theta = np.linspace(0, 2 * np.pi, num_features, endpoint=True)\n",
    "\n",
    "fig, ax = plt.subplots(subplot_kw={'projection': 'polar'})\n",
    "ax.plot(theta, first_row_centers, linewidth=1, color='blue', marker='o', label='Centers')\n",
    "# Add an extra red line at the 0.0 value\n",
    "ax.plot(theta, np.zeros_like(first_row_centers), color='red', linestyle='--', label='Avarage')\n",
    "\n",
    "ax.set_xticks(theta)\n",
    "ax.set_xticklabels(cluster_centers.columns, rotation=45, ha='right')\n",
    "\n",
    "plt.show()"
   ]
  },
  {
   "cell_type": "markdown",
   "id": "66581eff-7fe0-49c4-b0f1-890ea8f029da",
   "metadata": {},
   "source": [
    "![g](g.png)"
   ]
  },
  {
   "cell_type": "code",
   "execution_count": null,
   "id": "16f941ce-3b61-4009-85eb-0f52c63f83f1",
   "metadata": {},
   "outputs": [],
   "source": [
    "first_row_centers = cluster_centers.iloc[1, :]\n",
    "\n",
    "# len of features\n",
    "num_features = len(first_row_centers)\n",
    "\n",
    "# polar coordinates\n",
    "theta = np.linspace(0, 2 * np.pi, num_features, endpoint=True)\n",
    "\n",
    "fig, ax = plt.subplots(subplot_kw={'projection': 'polar'})\n",
    "ax.plot(theta, first_row_centers, linewidth=1, color='blue', marker='o', label='Centers')\n",
    "# Add an extra red line at the 0.0 value\n",
    "ax.plot(theta, np.zeros_like(first_row_centers), color='red', linestyle='--', label='Avarage')\n",
    "\n",
    "ax.set_xticks(theta)\n",
    "ax.set_xticklabels(cluster_centers.columns, rotation=45, ha='right')\n",
    "\n",
    "plt.show()"
   ]
  },
  {
   "cell_type": "markdown",
   "id": "87b1d45e-3038-4fe9-aec0-8a65be0b25f1",
   "metadata": {},
   "source": [
    "![g1](g1.png)"
   ]
  },
  {
   "cell_type": "code",
   "execution_count": null,
   "id": "d1600c30-3da4-4b5c-a61f-a57831e6e8fd",
   "metadata": {},
   "outputs": [],
   "source": [
    "first_row_centers = cluster_centers.iloc[3, :]\n",
    "\n",
    "# len of features\n",
    "num_features = len(first_row_centers)\n",
    "\n",
    "# polar coordinates\n",
    "theta = np.linspace(0, 2 * np.pi, num_features, endpoint=True)\n",
    "\n",
    "fig, ax = plt.subplots(subplot_kw={'projection': 'polar'})\n",
    "ax.plot(theta, first_row_centers, linewidth=1, color='blue', marker='o', label='Centers')\n",
    "# Add an extra red line at the 0.0 value\n",
    "ax.plot(theta, np.zeros_like(first_row_centers), color='red', linestyle='--', label='Avarage')\n",
    "\n",
    "ax.set_xticks(theta)\n",
    "ax.set_xticklabels(cluster_centers.columns, rotation=45, ha='right')\n",
    "\n",
    "plt.show()"
   ]
  },
  {
   "cell_type": "markdown",
   "id": "6fc13ae3-7aff-47b2-927c-06aacbf7773a",
   "metadata": {},
   "source": [
    "![g2](g2.png)"
   ]
  },
  {
   "cell_type": "code",
   "execution_count": null,
   "id": "1a3bc244-cdfc-42f4-9bab-7f1a67ceb671",
   "metadata": {},
   "outputs": [],
   "source": [
    "first_row_centers = cluster_centers.iloc[2, :]\n",
    "\n",
    "# len of features\n",
    "num_features = len(first_row_centers)\n",
    "\n",
    "# polar coordinates\n",
    "theta = np.linspace(0, 2 * np.pi, num_features, endpoint=True)\n",
    "\n",
    "fig, ax = plt.subplots(subplot_kw={'projection': 'polar'})\n",
    "ax.plot(theta, first_row_centers, linewidth=1, color='blue', marker='o', label='Centers')\n",
    "# Add an extra red line at the 0.0 value\n",
    "ax.plot(theta, np.zeros_like(first_row_centers), color='red', linestyle='--', label='Avarage')\n",
    "\n",
    "ax.set_xticks(theta)\n",
    "ax.set_xticklabels(cluster_centers.columns, rotation=45, ha='right')\n",
    "\n",
    "plt.show()"
   ]
  },
  {
   "cell_type": "markdown",
   "id": "112119ac-7752-4d0e-8d79-89facff11471",
   "metadata": {},
   "source": [
    "![g3](g3.png)"
   ]
  },
  {
   "cell_type": "code",
   "execution_count": null,
   "id": "fc2e7903-0a28-4717-b14f-c15881c96029",
   "metadata": {},
   "outputs": [],
   "source": [
    "first_row_centers = cluster_centers.iloc[4, :]\n",
    "\n",
    "# len of features\n",
    "num_features = len(first_row_centers)\n",
    "\n",
    "# polar coordinates\n",
    "theta = np.linspace(0, 2 * np.pi, num_features, endpoint=True)\n",
    "\n",
    "fig, ax = plt.subplots(subplot_kw={'projection': 'polar'})\n",
    "ax.plot(theta, first_row_centers, linewidth=1, color='blue', marker='o', label='Centers')\n",
    "# Add an extra red line at the 0.0 value\n",
    "ax.plot(theta, np.zeros_like(first_row_centers), color='red', linestyle='--', label='Avarage')\n",
    "\n",
    "ax.set_xticks(theta)\n",
    "ax.set_xticklabels(cluster_centers.columns, rotation=45, ha='right')\n",
    "\n",
    "plt.show()"
   ]
  },
  {
   "cell_type": "markdown",
   "id": "b5bd58b4-6924-42da-8968-e75fcd5e8feb",
   "metadata": {},
   "source": [
    "![g4](g4.png)"
   ]
  },
  {
   "cell_type": "code",
   "execution_count": null,
   "id": "fe5f29cf-e3c9-4b01-89e9-631e408bc6b4",
   "metadata": {},
   "outputs": [],
   "source": [
    "list(z_score_df.columns)"
   ]
  },
  {
   "cell_type": "code",
   "execution_count": null,
   "id": "cf3c0f36-ddf5-45be-8ec6-51e4cc9cfec5",
   "metadata": {},
   "outputs": [],
   "source": [
    "z_score_df.drop(['Not Deprived',\n",
    " 'Mobile Worker',\n",
    " 'Student',\n",
    " 'Disabled',\n",
    " 'Social Renter',\n",
    " 'Christian',\n",
    " 'Oversees address',\n",
    " 'Male', \n",
    " 'Capacity spare',\n",
    " 'Detatched',\n",
    " 'Not fluent','Driver',\n",
    " 'Part-time'\n",
    " ], axis=1, inplace=True)\n",
    "z_score_df.info()"
   ]
  },
  {
   "cell_type": "markdown",
   "id": "167ffb77-d874-44b9-9965-cfd1f17ef617",
   "metadata": {},
   "source": [
    "Here we drop all of the attributes except the Cluster as we wont need them."
   ]
  },
  {
   "cell_type": "code",
   "execution_count": null,
   "id": "370438a5-d04e-4698-ba57-58d1cf0ada90",
   "metadata": {},
   "outputs": [],
   "source": [
    "final_df = pd.concat([Dataframe4, z_score_df], axis=1, ignore_index=False)\n",
    "final_df.tail()"
   ]
  },
  {
   "cell_type": "markdown",
   "id": "6e213164-6f09-456a-979d-2896addb2690",
   "metadata": {},
   "source": [
    "We then add the newly created z score dataframe to the exitsing master data frame 'Dataframe4'"
   ]
  },
  {
   "cell_type": "code",
   "execution_count": null,
   "id": "48764623-7880-4810-afc5-1adb671596f1",
   "metadata": {
    "scrolled": true
   },
   "outputs": [],
   "source": [
    "final_df.dtypes"
   ]
  },
  {
   "cell_type": "code",
   "execution_count": null,
   "id": "cda4c35c-32a5-4099-aafa-efce36aecffe",
   "metadata": {
    "scrolled": true
   },
   "outputs": [],
   "source": [
    "final_df.tail()"
   ]
  },
  {
   "cell_type": "code",
   "execution_count": null,
   "id": "bc9b75fd-7675-492e-859e-03af43c60362",
   "metadata": {},
   "outputs": [],
   "source": [
    "merged_df = final_df.merge(filtered_df, on='LSOA21CD', how='left')"
   ]
  },
  {
   "cell_type": "code",
   "execution_count": null,
   "id": "3dd7eca0-1632-4725-9565-ed5fec567792",
   "metadata": {},
   "outputs": [],
   "source": [
    "merged_df.tail()"
   ]
  },
  {
   "cell_type": "code",
   "execution_count": null,
   "id": "57f60fcc-6f41-4253-878e-90a2e043b70a",
   "metadata": {},
   "outputs": [],
   "source": [
    "merged_df.dtypes"
   ]
  },
  {
   "cell_type": "code",
   "execution_count": null,
   "id": "8b98685f-cd11-4766-b381-915f56dc5c99",
   "metadata": {},
   "outputs": [],
   "source": [
    "merged_df.drop(['BNG_E', 'BNG_N', 'LONG', 'LAT', 'Shape__Len', 'geometry_y', 'centroid'], axis=1, inplace=True)"
   ]
  },
  {
   "cell_type": "code",
   "execution_count": null,
   "id": "88e061c1-32e2-4d00-82cf-1c597cd0050f",
   "metadata": {},
   "outputs": [],
   "source": [
    "merged_df.tail()"
   ]
  },
  {
   "cell_type": "code",
   "execution_count": null,
   "id": "19b2b8b3-29a3-4d0c-ba82-6140bf865fef",
   "metadata": {},
   "outputs": [],
   "source": [
    "df_boss = merged_df.drop(columns=['Cluster'])"
   ]
  },
  {
   "cell_type": "code",
   "execution_count": null,
   "id": "8e3bb47e-60fd-42a1-97b1-898d30455b1c",
   "metadata": {},
   "outputs": [],
   "source": [
    "final = gpd.GeoDataFrame(merged_df, geometry='geometry_x', crs=\"EPSG:27700\")"
   ]
  },
  {
   "cell_type": "code",
   "execution_count": null,
   "id": "8cbaa8f2-0695-4091-b117-0034e2e027ea",
   "metadata": {},
   "outputs": [],
   "source": [
    "final.explore(column='Cluster', cmap='Set1', tiles='CartoDB positron')"
   ]
  },
  {
   "cell_type": "markdown",
   "id": "a9d3ce50-5fe2-45b8-8518-e4ea9354ff02",
   "metadata": {},
   "source": [
    "![h](h.png)"
   ]
  },
  {
   "cell_type": "code",
   "execution_count": null,
   "id": "b84a6f9d-64a9-447a-a24d-dc59f6469e8f",
   "metadata": {},
   "outputs": [],
   "source": [
    "final.dtypes"
   ]
  },
  {
   "cell_type": "code",
   "execution_count": null,
   "id": "5d98c328-7964-4478-a564-d52f5c15c6ac",
   "metadata": {},
   "outputs": [],
   "source": [
    "numeric_columns = final.select_dtypes(include='float64')\n",
    "df2 = (numeric_columns - numeric_columns.mean()) / numeric_columns.std(ddof=0)\n",
    "df2.tail()"
   ]
  },
  {
   "cell_type": "code",
   "execution_count": null,
   "id": "bbdc4d3e-eab7-476d-bc86-153898dc810c",
   "metadata": {},
   "outputs": [],
   "source": [
    "df2.drop(['Shape__Are'], axis=1, inplace=True)"
   ]
  },
  {
   "cell_type": "code",
   "execution_count": null,
   "id": "137842a7-4d0e-4643-9fcc-39c69461f334",
   "metadata": {},
   "outputs": [],
   "source": [
    "corr = df2.corr()\n",
    "corr.style.background_gradient(cmap='coolwarm')"
   ]
  },
  {
   "cell_type": "markdown",
   "id": "8f7ce5cc-6e49-47ff-ae54-d2ddd1b8ccee",
   "metadata": {},
   "source": [
    "![h2](h2.png)"
   ]
  },
  {
   "cell_type": "markdown",
   "id": "0e61c01c-f54b-44e1-b1a2-66b311a5a42f",
   "metadata": {},
   "source": [
    "However, critically this initial outcome ceases to include the variables including in my aggregation analysis associated with the points fetched through use of the Tube shape file and combined TFL API. I merged the two tables on the LSOA code values giving an outcome with both the aggregated point per LSOA counts and the census data before running a correlation matrix analysis for the second time. I completed this process twice, once with just the census data and on an additional occasion with the two datasets as to make note of how the fashion in which there were distinctions between the optimum number of clusters, and the cluster extents. Additionally on the second run through of the correlation matrix I reduced the threshold for removal down to a value of 0.7. The rationale was that upon adding several new variables I sought to include only the most influential to ensure the eventual cluster outcomes were of a large enough distinction from one another. \n",
    "\n",
    "Indeed, off the back of the first Cluster map I felt the clusters to be not distinct enough with Clusters 3 and 0 especially being prevalent within LSOAs on the basis of what I feel were less so associated with a set of distinct characteristics but rather having an absence of one. A contributing factor to this was the inclusion of the ‘closest_tube’ metric which gave remarkably high values to LSOAs located toward the Southeast periphery of the study area. This is on account of Southeast London being completely devoid of London Underground lines, a core piece of rationale behind the concentration of the study toward Inner London exclusively. As the defining characteristic of the majority of LSOAs in this area is their considerable distance from a London Underground station there was a heavy preference toward cluster 3, a fact which diminished the role of other variables which could provide a more nuanced distinction between the various areas. – As such irrespective of its position on the correlation matrix I took the decision to remove the ‘closest_tube’ metric for the subsequent cluster analysis. \n",
    "\r\n",
    "Upon running the correlation matrix for a second time I was left with a set of 15 final variables including 3 from the externally sourced aggregated data location, BikenearOA, ParkperOA and TubenearOA. I then run the elbow method an additional instance giving a recommended Cluster number of 5 as before. Upon running the analysis, I obtained a final cluster map outcome which demonstrates the fashion in which London is divided in accordance with mobility accessibility and socio-economic factors. This map will form the basis of further graphical and statistical analysis to provide answers to my two research questions.\r\n"
   ]
  },
  {
   "cell_type": "code",
   "execution_count": null,
   "id": "0138c0ed-4275-4053-bd1f-8a588e67e434",
   "metadata": {},
   "outputs": [],
   "source": [
    "import seaborn as sns\n",
    "\n",
    "threshold = 0.7\n",
    "\n",
    "\n",
    "highly_correlated = (corr.abs() > threshold) & (corr.abs() < 1.0)\n",
    "\n",
    "plt.figure(figsize=(10, 8))\n",
    "sns.heatmap(highly_correlated, cmap='coolwarm', cbar=False, annot=True)\n",
    "\n",
    "plt.title('Highly Correlated Variables')\n",
    "plt.show()"
   ]
  },
  {
   "cell_type": "markdown",
   "id": "901ed01a-68d0-46ec-8188-138d399ed651",
   "metadata": {},
   "source": [
    "![h3](h3.png)"
   ]
  },
  {
   "cell_type": "code",
   "execution_count": null,
   "id": "7b160bd1-b6ee-4e02-aaa8-b042dc45a33a",
   "metadata": {
    "scrolled": true
   },
   "outputs": [],
   "source": [
    "df2.drop(['Not Deprived', 'Home Worker', 'Muslim', 'Overcrowded', 'Not fluent', 'Capacity spare', 'closest_tube', 'Bikerate', 'Parkrate',], axis=1, inplace=True)\n",
    "df2.info()"
   ]
  },
  {
   "cell_type": "code",
   "execution_count": null,
   "id": "6a37edef-c93c-42fb-b10d-fea94537e97d",
   "metadata": {},
   "outputs": [],
   "source": [
    "df2.fillna(df2.mean(), inplace=True)"
   ]
  },
  {
   "cell_type": "code",
   "execution_count": null,
   "id": "62bb4868-daff-4450-ae93-6400a6239142",
   "metadata": {},
   "outputs": [],
   "source": [
    "from sklearn.cluster import KMeans\n",
    "from scipy.spatial.distance import cdist, pdist\n",
    "\n",
    "kmeans = KMeans(n_clusters=10, random_state = 71)\n",
    "kmeans.fit(df2)\n",
    "labels = kmeans.predict(df2)\n",
    "cluster_centres = kmeans.cluster_centers_\n",
    "df2['Cluster'] = kmeans.labels_"
   ]
  },
  {
   "cell_type": "code",
   "execution_count": null,
   "id": "262ba349-eb28-4e34-b4ee-2bec985ad898",
   "metadata": {},
   "outputs": [],
   "source": [
    "Sum_of_squared_distances = []\n",
    "\n",
    "K_range = range(1,15)\n",
    "\n",
    "for k in K_range:\n",
    " km = KMeans(n_clusters=k, random_state = 71)\n",
    " km = km.fit(df2)\n",
    " Sum_of_squared_distances.append(km.inertia_)\n",
    "    \n",
    "plt.plot(K_range, Sum_of_squared_distances, 'bx-')\n",
    "plt.xlabel('k')\n",
    "plt.ylabel('Sum_of_squared_distances')\n",
    "plt.title('Elbow Method For Optimal k')\n",
    "plt.show()"
   ]
  },
  {
   "cell_type": "markdown",
   "id": "8eb8ea16-cbb9-47b3-af45-486211fd28f3",
   "metadata": {},
   "source": [
    "![h4](h4.png)"
   ]
  },
  {
   "cell_type": "markdown",
   "id": "5f51f557-666b-4df0-ad0d-016e5979e8f5",
   "metadata": {},
   "source": [
    "__Results__\n",
    "\n",
    "The K-means cluster Elbow method stipulated that I divide the LSOAs into a set of five clusters in accordance with a set of distinct qualities. \n"
   ]
  },
  {
   "cell_type": "code",
   "execution_count": null,
   "id": "5689510e-87f7-4a4c-badc-614cde20a7cc",
   "metadata": {},
   "outputs": [],
   "source": [
    "kmeans = KMeans(n_clusters=5, random_state =67)\n",
    "kmeans.fit(df2)\n",
    "labels = kmeans.predict(df2)\n",
    "cluster_centres = kmeans.cluster_centers_\n",
    "\n",
    "df2['Cluster'] = kmeans.labels_"
   ]
  },
  {
   "cell_type": "code",
   "execution_count": null,
   "id": "039899ea-c428-4ef6-bdf4-dc060f626d72",
   "metadata": {},
   "outputs": [],
   "source": [
    "kmeans = KMeans(n_clusters=5, random_state=67)\n",
    "clusters = kmeans.fit_predict(df2)\n",
    "\n",
    "cluster_centers = kmeans.cluster_centers_\n",
    "\n",
    "cluster_centers = pd.DataFrame(kmeans.cluster_centers_, columns=df2.columns)\n",
    "\n",
    "cluster_centers.head()"
   ]
  },
  {
   "cell_type": "code",
   "execution_count": null,
   "id": "62f2a400-b11f-44f7-a0af-857cd2494451",
   "metadata": {},
   "outputs": [],
   "source": [
    "first_row_centers = cluster_centers.iloc[0, :].drop('Cluster')\n",
    "\n",
    "\n",
    "num_features = len(first_row_centers)\n",
    "\n",
    "theta = np.linspace(0, 2 * np.pi, num_features, endpoint=False)\n",
    "\n",
    "fig, ax = plt.subplots(subplot_kw={'projection': 'polar'})\n",
    "ax.plot(theta, first_row_centers, linewidth=1, color='blue', marker='o', label='Centers')\n",
    "\n",
    "ax.plot(theta, np.zeros_like(first_row_centers), color='red', linestyle='--', label='Average')\n",
    "\n",
    "ax.set_xticks(theta)\n",
    "ax.set_xticklabels(first_row_centers.index, rotation=45, ha='right')  # Use the index of first_row_centers\n",
    "\n",
    "plt.show()"
   ]
  },
  {
   "cell_type": "markdown",
   "id": "8f50d006-9031-4644-8f76-aa7833619ef3",
   "metadata": {},
   "source": [
    "The polar graph for the initial cluster, cluster 0 is most defined by a high uptake of driving with the mean value being 0.6 standard deviations above the holistic mean. LSOAs among this classification also have a greater propensity to have a high percentage of Detached, owner-occupied dwellings. Public and Active transit availability is below the overall average attributes which provide a plausible reason for the heavy reliance on driving. The number of students and social renters are similarly low such that I would suspect cluster 0 describes the suburban area toward the studies South East rim perhaps largely mirroring the cluster 3 area present in the prior map. The number of men as a proportion of the population is precisely on the mean which also speaks to an environment more defined by conventional family households. Critically however cluster 0 refutes the association between transport accessibility and deprivation as hypothesised by my second research question. A low proportion of social renters and high concentration of detached houses suggests areas classified as being apart of cluster 0 are toward the affluent side irrespective of the lack of alternative transit options. "
   ]
  },
  {
   "cell_type": "markdown",
   "id": "bb4c916c-d5a7-4364-a4ea-cf00bca92560",
   "metadata": {},
   "source": [
    "![i](i.png)"
   ]
  },
  {
   "cell_type": "code",
   "execution_count": null,
   "id": "13c0d768-9cf8-4575-ae81-4d5894689008",
   "metadata": {},
   "outputs": [],
   "source": [
    "import matplotlib.pyplot as plt\n",
    "import numpy as np\n",
    "\n",
    "first_row_centers = cluster_centers.iloc[1, :].drop('Cluster')\n",
    "\n",
    "num_features = len(first_row_centers)\n",
    "\n",
    "theta = np.linspace(0, 2 * np.pi, num_features, endpoint=False)\n",
    "\n",
    "fig, ax = plt.subplots(subplot_kw={'projection': 'polar'})\n",
    "ax.plot(theta, first_row_centers, linewidth=1, color='blue', marker='o', label='Centers')\n",
    "\n",
    "ax.plot(theta, np.zeros_like(first_row_centers), color='red', linestyle='--', label='Average')\n",
    "\n",
    "ax.set_xticks(theta)\n",
    "ax.set_xticklabels(cluster_centers.columns[:-1], rotation=45, ha='right')  # Exclude 'Cluster' column\n",
    "\n",
    "plt.show()"
   ]
  },
  {
   "cell_type": "markdown",
   "id": "f582a82b-8073-4fe7-a54d-a85c215cc75c",
   "metadata": {},
   "source": [
    "This second graph depicts Cluster 1 which shares several attributes with Cluster 0 in that several attributes point toward affluence. A high proportion of those residing in Cluster 1 LSOAs are owner occupiers while the mean number of those possessing a second home overseas is a standard deviation above the overall mean. Variation is borne on account of the higher-than-average availability of Bike hire and storage facilities in addition to the presence of tube infrastructure.  In this sense Cluster 1 appears to describe wealthy well-connected neighbourhoods which have seen their dependency on private automobile transport falter on account of alternative transit options. "
   ]
  },
  {
   "cell_type": "markdown",
   "id": "09fb667d-f183-437a-bb65-2f5550a56277",
   "metadata": {},
   "source": [
    "![i1](i1.png)"
   ]
  },
  {
   "cell_type": "code",
   "execution_count": null,
   "id": "1c708a60-6fe6-42ab-afd0-e61f9edbb972",
   "metadata": {},
   "outputs": [],
   "source": [
    "import matplotlib.pyplot as plt\n",
    "import numpy as np\n",
    "\n",
    "first_row_centers = cluster_centers.iloc[2, :].drop('Cluster')\n",
    "\n",
    "num_features = len(first_row_centers)\n",
    "\n",
    "theta = np.linspace(0, 2 * np.pi, num_features, endpoint=False)\n",
    "\n",
    "fig, ax = plt.subplots(subplot_kw={'projection': 'polar'})\n",
    "ax.plot(theta, first_row_centers, linewidth=1, color='blue', marker='o', label='Centers')\n",
    "\n",
    "ax.plot(theta, np.zeros_like(first_row_centers), color='red', linestyle='--', label='Average')\n",
    "\n",
    "ax.set_rticks(np.linspace(first_row_centers.min(), first_row_centers.max(), num=6))\n",
    "\n",
    "ax.set_xticks(theta)\n",
    "ax.set_xticklabels(cluster_centers.columns[:-1], rotation=45, ha='right')  # Use feature names as tick labels\n",
    "\n",
    "plt.show()"
   ]
  },
  {
   "cell_type": "markdown",
   "id": "79bc8014-7a79-4a52-a713-77764acc5312",
   "metadata": {},
   "source": [
    "The third graph depicts Cluster 4, which is characterised by high multimodal accessibility and low Driving uptake as was the case in the prior cluster. Both Ownership and Social Renting is below the mean suggesting a scenario of high private renting with part time work uptake being far below the holistic mean. The male population is also roughly 0.4 Standard Deviations above the average suggesting an area perhaps occupied by a large economic-migrant population an attributed further plausible considering the low ‘part-time employed’ figure. The comparatively low propensity of Detached dwellings, in addition to transport accessibility also stipulates that Cluster 4 is most probably concentrated toward an area in the central core of the study area, most unlike Cluster 0."
   ]
  },
  {
   "cell_type": "markdown",
   "id": "7676de8c-27b8-478e-89f0-756be63282a7",
   "metadata": {},
   "source": [
    "![i2](i2.png)"
   ]
  },
  {
   "cell_type": "code",
   "execution_count": null,
   "id": "9860cd1e-3de1-4300-ae39-be0e43386bd3",
   "metadata": {},
   "outputs": [],
   "source": [
    "import matplotlib.pyplot as plt\n",
    "import numpy as np\n",
    "\n",
    "first_row_centers = cluster_centers.iloc[3, :]\n",
    "\n",
    "num_features = len(first_row_centers)\n",
    "\n",
    "theta = np.linspace(0, 2 * np.pi, num_features, endpoint=True)\n",
    "\n",
    "fig, ax = plt.subplots(subplot_kw={'projection': 'polar'})\n",
    "ax.plot(theta, first_row_centers, linewidth=1, color='blue', marker='o', label='Centers')\n",
    "\n",
    "ax.plot(theta, np.zeros_like(first_row_centers), color='red', linestyle='--', label='Average')\n",
    "\n",
    "ax.set_xticks(theta)\n",
    "ax.set_xticklabels(first_row_centers.index, rotation=45, ha='right')  # Use index as tick labels\n",
    "\n",
    "plt.show()"
   ]
  },
  {
   "cell_type": "markdown",
   "id": "89552094-b5f2-4dda-aff6-e99106167d14",
   "metadata": {},
   "source": [
    "Cluster 2 is depicted by the fourth graph. Cluster 2 describes areas which match those described in the ‘context and literature’ section of my study. Tube and Cycling accessibility is moderately below the study wide mean while the social renting attribute is nearly 2 Standard Deviations above the mean. Unemployment is also high with residents of LSOAs within this cluster holding a greater propensity to drive and work on a part time basis. These metrics point toward Cluster 2 areas being comparatively geographically isolated with an under provision of mobility options enforcing worse socio-economic prospects. Such areas also have a 0.5 standard deviation below the average male population which perhaps evidences a scenario of single-parent familial households which could affirm economic conditions. "
   ]
  },
  {
   "cell_type": "markdown",
   "id": "d0b00227-a6a7-47c6-bf88-257847853fd5",
   "metadata": {},
   "source": [
    "![i3](i3.png)"
   ]
  },
  {
   "cell_type": "code",
   "execution_count": null,
   "id": "94af5bd1-2c8d-46a0-b737-fd3b5d7c0bde",
   "metadata": {},
   "outputs": [],
   "source": [
    "import matplotlib.pyplot as plt\n",
    "import numpy as np\n",
    "\n",
    "first_row_centers = cluster_centers.iloc[4, :]\n",
    "\n",
    "num_features = len(first_row_centers)\n",
    "\n",
    "theta = np.linspace(0, 2 * np.pi, num_features, endpoint=True)\n",
    "\n",
    "fig, ax = plt.subplots(subplot_kw={'projection': 'polar'})\n",
    "ax.plot(theta, first_row_centers, linewidth=1, color='blue', marker='o', label='Centers')\n",
    "\n",
    "ax.plot(theta, np.zeros_like(first_row_centers), color='red', linestyle='--', label='Average')\n",
    "\n",
    "ax.set_xticks(theta)\n",
    "ax.set_xticklabels(first_row_centers.index, rotation=45, ha='right')  # Use index as tick labels\n",
    "\n",
    "plt.show()"
   ]
  },
  {
   "cell_type": "markdown",
   "id": "2a683e55-b032-4b5d-a616-0665c0efacf8",
   "metadata": {},
   "source": [
    "The fifth graph depicts cluster 3, which gives attributes largely describing a more transient global population base. The three mobility orientated statistics point toward accessibility far higher than its cluster contemporaries, with each exceeding the average by 2.5 standard deviations. The Student and Oversees address values are also similarly high pointing toward a wealthy population of youthful people. Additionally given the Driver value of which is more than one negative standard deviation below the mean it seems likely that the focality of cluster 3 sits in an area boasting immense connectivity likely in the heart of London’s West End."
   ]
  },
  {
   "cell_type": "markdown",
   "id": "4da6a143-58f6-4208-a40f-1e0e3276828a",
   "metadata": {},
   "source": [
    "![i4](i4.png)"
   ]
  },
  {
   "cell_type": "code",
   "execution_count": null,
   "id": "50f489b0-c60b-4476-95b3-2bb7a1442ac5",
   "metadata": {},
   "outputs": [],
   "source": [
    "df2.dtypes"
   ]
  },
  {
   "cell_type": "code",
   "execution_count": null,
   "id": "abe40133-f605-4e6b-8b4b-6acc909768c6",
   "metadata": {},
   "outputs": [],
   "source": [
    "df2.drop([\n",
    " 'Mobile Worker', 'Unemployed',\n",
    " 'Student',\n",
    " 'Disabled',\n",
    " 'Social Renter',\n",
    "    'Owner',\n",
    " 'Christian',\n",
    " 'Oversees address',\n",
    " 'Male', \n",
    " 'Detatched',\n",
    " 'Driver','Part-time',\n",
    "                 'BikenearOA','ParkperOA', 'TubenearOA'\n",
    " \n",
    " ], axis=1, inplace=True)\n",
    "df2.info()"
   ]
  },
  {
   "cell_type": "code",
   "execution_count": null,
   "id": "fbc89118-fa01-4976-b2aa-ff56e8971204",
   "metadata": {},
   "outputs": [],
   "source": [
    "df2.tail()"
   ]
  },
  {
   "cell_type": "code",
   "execution_count": null,
   "id": "85088a39-dcf6-4835-8b14-035bf21ffab4",
   "metadata": {},
   "outputs": [],
   "source": [
    "finad = pd.concat([df_boss, df2], axis=1, ignore_index=False)\n",
    "finad.tail()"
   ]
  },
  {
   "cell_type": "code",
   "execution_count": null,
   "id": "ba136df8-9e52-46db-9606-83d27ca81543",
   "metadata": {},
   "outputs": [],
   "source": [
    "finag = gpd.GeoDataFrame(finad, geometry='geometry_x', crs=\"EPSG:27700\")"
   ]
  },
  {
   "cell_type": "code",
   "execution_count": null,
   "id": "98aa1c66-32c1-42b4-a1ae-3687e226358a",
   "metadata": {},
   "outputs": [],
   "source": [
    "finag.dtypes"
   ]
  },
  {
   "cell_type": "code",
   "execution_count": null,
   "id": "d243c931-4b32-43dd-9393-22437058ac71",
   "metadata": {},
   "outputs": [],
   "source": [
    "finag.explore(column='Cluster', cmap='tab20', tiles='CartoDB positron')"
   ]
  },
  {
   "cell_type": "markdown",
   "id": "fe62a49b-9e46-4712-bcde-734c37726b1a",
   "metadata": {},
   "source": [
    "![j](j.png)"
   ]
  },
  {
   "cell_type": "markdown",
   "id": "b58d5762-e818-4668-9f5e-3a458291a679",
   "metadata": {},
   "source": [
    "__Final Map__\n",
    "\n",
    "The final map outcome demonstrates the fashion in which the various census and mobility measures intersect in a spatial fashion. Striking is the fashion in which four of the five clusters form reasonably clear core agglomerations occupying the four cardinal directions from central London. Cluster 1 is most prominently agglomerated toward the immediate west of London’s West End, centred upon areas of considerable wealth such as Chelsea, Kensington and Fulham. Outlying bands also form an axis encompassing upscale residential neighbourhoods from Marylebone north toward Hampstead Heath. Desirable exclaves within South London such as Clapham and Dulwich are also confined within Cluster 1. For the most part these areas are synonymous with locales frequented by those within 19th Century high ‘society’, being affluent period neighbourhoods in which much of London’s wealth has been concentrated for generations. Consequently, much of London’s ‘Deep level’ Underground construction was centred toward these neighbourhoods, running in a north-west orientated axis. Reference to the associated Polar graph allows for an understanding of this area as being broadly well connected to pubic and active transport links, while being holding wealth in excess of adjacent clusters on the grounds of high owner-occupation and very low social renting rates. It would make since to infer that those residing in Cluster 1 areas are exposed to great opportunity associated with their ease of mobility and spatial proximity to various critical Inner London hubs prompting a self-perpetuating scenario of wealth concentration toward these areas.\n",
    "\n",
    "Cluster 2 occupies a prominent cluster toward the immediate south of central London, centred on the South-East running Old Kent Road. This area has historically been among the least connected in Inner London being what could be described as a ‘Public Transport Desert’ on account of its lack of mobility options. Typically, mobility through the area is funnelled through Old Kent Road which runs into Central London. However heavy reliance on buses increases journey times and reduces reliability with congestion along roadway arteries in this area being particularly bad and negatively impacting a resident population which is among the most deprived in the UK. Several large social housing schemes, most notably the Aylesbury Estate which houses approximately 7.500 residents are located in this area. Reference to the Polar graph highlights the degree to which areas classified within Cluster 2 are filtered in accordance with a greater than average ‘Social Renter’ value. This would explain why unlike the other four ‘core’ cluster groups Cluster 2 exhibits characteristics of a more spatially disparate nature with various smaller agglomerations located across the study area most likely being the location of prominent social housing schemes.\n",
    "\n",
    "Cluster 3 is centred around the ‘core activity areas’ of London consisting of a prominent agglomeration centred on the West End and The City of London. Outlying areas are also present focused on the regenerated business districts of Stratford and Canary Wharf, as well as university campuses. Areas under this classification having the strongest tendency toward having outstanding transportation links with areas within this Cluster often having multiple Tube stops. Interestingly these areas also mirror much the current extent of the Santander Cycle scheme rollout perhaps in association with the fact they contain various highly trafficked tourist sites. Connectivity wise then Cluster 3 areas parallel Cluster 1 LSOAs on account of unprecedented connectivity. From a demographic perspective it seems likely that residents of these areas are similarly wealthy yet most likely younger being predominantly students and young professionals.\n",
    "\n",
    "Cluster 4 holds a strong Eastward orientated bias being situated over much of London’s traditional East End, spanning from the boundary between the City and Tower Hamlets, as far East as the River Lea. This area is among the most multicultural in London being home to a large South Asian Community. The most notably characteristics of this cluster are its low number of Christians and tendency toward an overrepresentation of males traits which support the idea that this area houses a considerable number of immigrants. Driving uptake is low, most likely as a consequence of alternative travel options, yet observation of the Polar graph paints a narrative in which Cluster 4 is most distinguished from its contemporaries on account of its identity based demographic differences as opposed to any trend between socioeconomics and accessibility. It is however, worth bearing in mind that Tower Hamlets is among the most deprived local authorities in the UK, and Tube accessibility is only 0.1 standard deviations above the mean of a wider area which includes vast swathes of Southeast London which is completely devoid of Underground connections potentially distorting the capacity to which trends can be observed. \n",
    "\n",
    "Cluster 0 is quite distinct from the other Clusters in that it isn’t grounded in a focal location rather it forms a broad band around the characteristically more ‘urban’ components of inner London. A quirk of the Study Area is that it holds a slight Eastern bias with several boroughs considered as part of Inner London toward the Southeast extending into more modern suburban development. The Boroughs of Lewisham and Greenwich for instance which are considered ‘inner London’ share characteristics with their Outer London neighbourhoods in that they largely developed because of suburbanisation in the 1930s, never quite having the connectivity or proximity to Westminster which granted favoured status to London’s north-west among the affluent. Much of this area has historically been industrial with the Eastward prevailing wind halting development. Thus Cluster 0 is most pertinently defined not in association with demographic variables but in acknowledgement of a lack of active travel and London Underground connections. This cluster sees mobility patterns distinct from the rest of the areas with driving having a strong prevalence. This makes sense as the peripheral location of this cluster corresponds with the more recent development of its road network and thus increased ease of transportation. However, despite having a higher-than-average Owner population which is a reasonable surrogate for wealth, air pollution is typically among the worst in Outer London attributed to high vehicular traffic. As such Cluster 0 presents an interesting counter example to the geographic distribution of wealth in Victorian London in that it stands as a product of the modern proliferation of commuter railways such that adjacency to ones place of work is no longer a critical factor toward ones home location. The Middle classes are afforded an opportunity to suburbanise, yet at the cost of accessibility to potentially more healthy travel solutions.\n",
    "\n",
    "Upon observation of the final map diagram it is interesting to observe how drastic the role of specific tube stations can be toward shifting the balance from one cluster to the next. Clusters 0 and 4 largely intermingle toward the North-Eastern peripheries of the study location with concentrated LSOA enclaves earned as being cluster 4 largely being immediately adjacent mass transit stations. Finsbury Park and Upton Park in North and East London respectively, stand to be interesting examples. Similarly Cluster 3 extends some distance South West in a haphazard fashion, mirroring exactly the route of the Northern Lines southernmost branch and highlighting the role it places both as a nexus of connectivity in this area but also as a facilitator of middle-class wealth concentration.\n"
   ]
  },
  {
   "cell_type": "code",
   "execution_count": null,
   "id": "b1fa1b31-e362-4017-b9ff-2cb0d2af40f8",
   "metadata": {},
   "outputs": [],
   "source": [
    "import geopandas as gpd\n",
    "import matplotlib.pyplot as plt\n",
    "\n",
    "fig, axs = plt.subplots(1, 2, figsize=(30, 15))  \n",
    "\n",
    "finag.plot(ax=axs[0], column='Cluster', cmap='tab20', legend=True)\n",
    "axs[0].set_title('After Mobility')\n",
    "\n",
    "final.plot(ax=axs[1], column='Cluster', cmap='tab20', legend=True)  \n",
    "axs[1].set_title('Before Mobility')  \n",
    "\n",
    "plt.tight_layout()  \n",
    "plt.show()"
   ]
  },
  {
   "cell_type": "markdown",
   "id": "6046b251-207b-4745-99ee-ea8bd63e1b1c",
   "metadata": {},
   "source": [
    "![j1](j1.png)"
   ]
  },
  {
   "cell_type": "markdown",
   "id": "855bfd12-c811-4d59-8df3-b5be26ef78d8",
   "metadata": {},
   "source": [
    "This above visualisation notes the distinction between the two cluster maps before and after the inclusion of the aggregated mobility values. Please note the clusters are different between the two so comparison is more indicative"
   ]
  },
  {
   "cell_type": "markdown",
   "id": "b523814f-a09f-4b06-9167-9580426aa8a8",
   "metadata": {},
   "source": [
    "When considering the two intial research questions as listed below one has to consider both the above cluster maps and the relationship between various variables."
   ]
  },
  {
   "cell_type": "markdown",
   "id": "292d084c-7d34-4cb5-85d0-0d681254ac4e",
   "metadata": {},
   "source": [
    "__In what fashion are historically embedded spatial inequalities in transport provision replicated across a contemporary 21st century London?__\n",
    "\n",
    "__Does adjacency to active and public transport links influence deprivation outcomes, and how do the implications differ with demographic factors__"
   ]
  },
  {
   "cell_type": "markdown",
   "id": "d96c6593-477a-49c9-9fba-88416c961ed3",
   "metadata": {},
   "source": [
    "Observation of the cluster maps underlines an understand that equity in public and active travel provision is indeed largely unequal on the grounds that Londons Tube network is largely a product of the socio-economic conditions which shaped it in the late 19th century. Much of the systems growth and expansion occured over this period with succesive expansions being largely piecemeal and skewed toward existing lines. Identification of two clusters biased toward the SOuth East,  Clusters 0 and 2 as lacking sustainable transit options affirms a strict geographic disparity in transport provision along a clear axis. However where Cluster 0 is largely a product of suburbanisation with car ownership and affluence being comparitively high, Cluster 2 has remained an agglomeration of relative poverty with unemployment and social renting being high. As such we can see a city divided not just by transport provision but in how public transport is recieved and utilised. In the identification of various types of public transport deficient environment evidenced us how deprivation is dependant not just on transport provision, of which access helps specifically in inner-city neighbourhoods as has helped certain East London (Cluster 4) communities to thrive as compared to some in Cluster 2, but also attitudes about the role public transport takes in ones life. Cluster 0 on account of its car-centric urban grain would perhaps be less likely to see considerable active transit participation even in the case of its rollout."
   ]
  },
  {
   "cell_type": "code",
   "execution_count": null,
   "id": "7101280d-2332-45eb-8257-8d1b7570d69c",
   "metadata": {},
   "outputs": [],
   "source": [
    "import seaborn as sns\n",
    "import matplotlib.pyplot as plt\n",
    "\n",
    "sns.set(style=\"ticks\")\n",
    "\n",
    "ax = sns.lmplot(data=finag, x=\"ParkperOA\", y=\"Driver\", hue=\"Cluster\", palette='Set1', scatter_kws={'alpha':0.5}, ci=None, height=8, aspect=1.5)\n",
    "\n",
    "ax._legend.set_title('Cluster')\n",
    "\n",
    "plt.show()"
   ]
  },
  {
   "cell_type": "markdown",
   "id": "5decd109-e4bb-4e40-808b-0e0878aac0c7",
   "metadata": {},
   "source": [
    "![z](z.png)"
   ]
  },
  {
   "cell_type": "markdown",
   "id": "2bc99be4-3ba2-4236-bb7f-a8bdf13195fc",
   "metadata": {},
   "source": [
    "The above plot notes the relationship between Cycling parking infrastructure and the percentage of those who drive to work by LSOA basis. A clear holistic relationship emerges associated with those areas having the highest ParkperOA being having minor 'Driver' values. The inverse is true when observing LSOAs with high Driver values."
   ]
  },
  {
   "cell_type": "code",
   "execution_count": null,
   "id": "3abf6767-4c8d-458a-8ce7-09def5da4cd4",
   "metadata": {},
   "outputs": [],
   "source": [
    "import seaborn as sns\n",
    "import matplotlib.pyplot as plt\n",
    "\n",
    "sns.set(style=\"ticks\")\n",
    "\n",
    "ax = sns.lmplot(data=finag, x=\"ParkperOA\", y=\"Unemployed\", scatter_kws={'alpha':0.5}, ci=None, height=8, aspect=1.5)\n",
    "\n",
    "plt.show()"
   ]
  },
  {
   "cell_type": "markdown",
   "id": "f8e5e414-c07f-4165-bf54-9b4f6c15cead",
   "metadata": {},
   "source": [
    "![z1](z1.png)"
   ]
  },
  {
   "cell_type": "markdown",
   "id": "46fb3fca-466a-4d59-bec0-39e4ffe06874",
   "metadata": {},
   "source": [
    "Typically Unemployment and PArkperOA have only a minor correlation, however all those LSOAs exceeding 50 cycle spaces have an unemployment rate below 15% presenting a scenario where the most eocnomic prosperous of areas demonstrate a willingness to install infrastructure facilitating active travel."
   ]
  },
  {
   "cell_type": "code",
   "execution_count": null,
   "id": "e211bd2d-bad0-4d9d-9f40-27cc1d9a5cae",
   "metadata": {},
   "outputs": [],
   "source": [
    "import seaborn as sns\n",
    "import matplotlib.pyplot as plt\n",
    "\n",
    "sns.set(style=\"ticks\")\n",
    "\n",
    "plt.figure(figsize=(10, 6))  # Adjust the figure size as needed\n",
    "sns.boxplot(data=finag, x='Cluster', y='Social Renter', palette='Set1')\n",
    "\n",
    "plt.xlabel('Cluster')\n",
    "plt.ylabel('Unemployed')\n",
    "plt.title('Unemployment by Cluster')\n",
    "\n",
    "plt.show()"
   ]
  },
  {
   "cell_type": "markdown",
   "id": "fd8d8a26-e278-4e90-ab57-8512c238c46e",
   "metadata": {},
   "source": [
    "![z2](z2.png)"
   ]
  },
  {
   "cell_type": "markdown",
   "id": "ae716b74-c2c7-4bb0-923d-e1a6ef4447d6",
   "metadata": {},
   "source": [
    "Noted above is the reality that the Cluster with the greatest median unemployment, Cluster 2 has amongst the worst mobility metrics beside Cluster 0"
   ]
  },
  {
   "cell_type": "code",
   "execution_count": null,
   "id": "cd3e0130-383c-4cd5-98de-6c92b747ee05",
   "metadata": {},
   "outputs": [],
   "source": [
    "import seaborn as sns\n",
    "import matplotlib.pyplot as plt\n",
    "\n",
    "sns.set(style=\"ticks\")\n",
    "\n",
    "ax = sns.lmplot(data=finag, x=\"ParkperOA\", y=\"TubenearOA\", scatter_kws={'alpha':0.5}, ci=None, height=8, aspect=1.5)\n",
    "\n",
    "plt.show()"
   ]
  },
  {
   "cell_type": "markdown",
   "id": "f2415bcb-8c8c-41df-8ccb-6b1512bbb3b0",
   "metadata": {},
   "source": [
    "![z3](z3.png)"
   ]
  },
  {
   "cell_type": "markdown",
   "id": "d5c4e0e4-8b50-4ccc-83d1-ca2a337f596b",
   "metadata": {},
   "source": [
    "As a final point of note there is a remarkably strong correlation between the number of Cycle parking facilities and Tube Stations within a LSOA. This makes sense as the inclusion of cycling facilities adjacent a metro stop allows for one to complete a sutsinable mulit-modal journey which serves to a be a sustainable solution the 'the lost mile problem'. The issue stipulates that it is often hard for transport planners to steer transit users into similarly effecient modes if they reside beyond reasonable walking distance from their metro station destination. However the installation of Parking facilities can encourage use bikes in tandem with Tube to ensure users complete a fully sustainable journey from doorstep to doorstep. Hypothetically then it seems areas with existing tube access benefit from a propensity toward more cycling infrastructure highlighting how 19th century inequalties in line construction has influenced mobility patterns in perhaps unappreciated ways beyond just the Tube mode itself. In order to create a fully equitable mobility paradigm for the 21st Century we ought to be acknowledge said quirks and reframe the way in which we view the role of specific modes. Where else beside Tube stations would benefit from a network of Cycle Parking infrastructure for instance?\n"
   ]
  },
  {
   "cell_type": "code",
   "execution_count": null,
   "id": "a22dbf93-f04c-4231-b97b-cfe7e2355eb6",
   "metadata": {},
   "outputs": [],
   "source": []
  },
  {
   "cell_type": "code",
   "execution_count": null,
   "id": "67f081d0-087f-4a77-ace6-5c4463465814",
   "metadata": {},
   "outputs": [],
   "source": []
  }
 ],
 "metadata": {
  "kernelspec": {
   "display_name": "Python 3 (ipykernel)",
   "language": "python",
   "name": "python3"
  },
  "language_info": {
   "codemirror_mode": {
    "name": "ipython",
    "version": 3
   },
   "file_extension": ".py",
   "mimetype": "text/x-python",
   "name": "python",
   "nbconvert_exporter": "python",
   "pygments_lexer": "ipython3",
   "version": "3.10.13"
  }
 },
 "nbformat": 4,
 "nbformat_minor": 5
}
